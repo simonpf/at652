{
 "cells": [
  {
   "cell_type": "markdown",
   "id": "3a99f8bc-846e-4daf-a109-61b0babc5494",
   "metadata": {
    "editable": true,
    "slideshow": {
     "slide_type": ""
    },
    "tags": []
   },
   "source": [
    "# XGBoost sample efficiency\n",
    "\n",
    "- This notebooks assesses the accuracy of XGBoost-based precipitation retrieval with respect to the training data size."
   ]
  },
  {
   "cell_type": "code",
   "execution_count": 1,
   "id": "fe158d7a-094c-4f45-a48e-b77215215849",
   "metadata": {
    "editable": true,
    "slideshow": {
     "slide_type": ""
    },
    "tags": []
   },
   "outputs": [],
   "source": [
    "# Running this notebook requires the xgboost package. Uncomment the following line to install it.\n",
    "#!pip install xgboost"
   ]
  },
  {
   "cell_type": "code",
   "execution_count": 2,
   "id": "e2aa35a5-c325-4314-91b6-bf204240ff9e",
   "metadata": {
    "editable": true,
    "slideshow": {
     "slide_type": ""
    },
    "tags": []
   },
   "outputs": [],
   "source": [
    "import ipwgml\n",
    "from ipwgml.data import download_dataset\n",
    "import hdf5plugin\n",
    "import xarray as xr\n",
    "\n",
    "files = download_dataset(\"spr\", \"gmi\", \"gmi\", \"training\", \"on_swath\", \"tabular\")\n",
    "#input_data = xr.load_dataset(files[\"gmi\"][0], engine=\"h5netcdf\")\n",
    "target_data = xr.load_dataset(files[\"target\"][0], engine=\"h5netcdf\")\n",
    "#x = input_data.observations.data\n",
    "y = target_data.surface_precip.data"
   ]
  },
  {
   "cell_type": "code",
   "execution_count": 2,
   "id": "a646e6e6-b33f-464b-9951-3cc7ac2544df",
   "metadata": {
    "editable": true,
    "slideshow": {
     "slide_type": ""
    },
    "tags": []
   },
   "outputs": [],
   "source": [
    "from sklearn.ensemble import RandomForestRegressor\n",
    "from sklearn.model_selection import train_test_split\n",
    "\n"
   ]
  },
  {
   "cell_type": "code",
   "execution_count": 3,
   "id": "9ac09514-7bfc-41bd-bf68-dd768fa8ea90",
   "metadata": {
    "editable": true,
    "slideshow": {
     "slide_type": ""
    },
    "tags": []
   },
   "outputs": [],
   "source": [
    "from ipwgml.evaluation import Evaluator\n",
    "                            \n",
    "\n",
    "def run_retrieval(input_data):\n",
    "    input_data = input_data.transpose(\"batch\", \"channels_gmi\")\n",
    "    obs = input_data.obs_gmi.data\n",
    "    surface_precip = rf_regressor.predict(obs)\n",
    "    return xr.Dataset({\n",
    "        \"surface_precip\": ((\"samples\",), surface_precip)\n",
    "    })\n"
   ]
  },
  {
   "cell_type": "code",
   "execution_count": 6,
   "id": "71e38239-1c47-4b3d-9003-434ab1daa6b7",
   "metadata": {},
   "outputs": [
    {
     "name": "stdout",
     "output_type": "stream",
     "text": [
      "Collecting xgboost\n",
      "  Using cached xgboost-2.1.2-py3-none-manylinux_2_28_x86_64.whl.metadata (2.1 kB)\n",
      "Requirement already satisfied: numpy in /home/simon/miniconda3/envs/at652/lib/python3.11/site-packages (from xgboost) (1.26.4)\n",
      "Requirement already satisfied: nvidia-nccl-cu12 in /home/simon/miniconda3/envs/at652/lib/python3.11/site-packages (from xgboost) (2.21.5)\n",
      "Requirement already satisfied: scipy in /home/simon/miniconda3/envs/at652/lib/python3.11/site-packages (from xgboost) (1.14.1)\n",
      "Using cached xgboost-2.1.2-py3-none-manylinux_2_28_x86_64.whl (153.9 MB)\n",
      "Installing collected packages: xgboost\n",
      "Successfully installed xgboost-2.1.2\n",
      "Note: you may need to restart the kernel to use updated packages.\n"
     ]
    }
   ],
   "source": [
    "pip install xgboost"
   ]
  },
  {
   "cell_type": "code",
   "execution_count": 7,
   "id": "a2946d86-543b-4072-9f95-9772c8e0146f",
   "metadata": {
    "editable": true,
    "slideshow": {
     "slide_type": ""
    },
    "tags": []
   },
   "outputs": [
    {
     "data": {
      "application/vnd.jupyter.widget-view+json": {
       "model_id": "3ea4d1df381848f7830fe1ed51a23fd7",
       "version_major": 2,
       "version_minor": 0
      },
      "text/plain": [
       "Output()"
      ]
     },
     "metadata": {},
     "output_type": "display_data"
    },
    {
     "data": {
      "text/html": [
       "<pre style=\"white-space:pre;overflow-x:auto;line-height:normal;font-family:Menlo,'DejaVu Sans Mono',consolas,'Courier New',monospace\"></pre>\n"
      ],
      "text/plain": []
     },
     "metadata": {},
     "output_type": "display_data"
    },
    {
     "name": "stderr",
     "output_type": "stream",
     "text": [
      "/home/simon/miniconda3/envs/at652/lib/python3.11/site-packages/ipwgml/metrics.py:672: RuntimeWarning: divide by zero encountered in divide\n",
      "  scales = 0.5 * (N - 1) * self.scale / n\n"
     ]
    },
    {
     "data": {
      "application/vnd.jupyter.widget-view+json": {
       "model_id": "7573ad6c6f104629807630e7e0e2e4ed",
       "version_major": 2,
       "version_minor": 0
      },
      "text/plain": [
       "Output()"
      ]
     },
     "metadata": {},
     "output_type": "display_data"
    },
    {
     "data": {
      "text/html": [
       "<pre style=\"white-space:pre;overflow-x:auto;line-height:normal;font-family:Menlo,'DejaVu Sans Mono',consolas,'Courier New',monospace\"></pre>\n"
      ],
      "text/plain": []
     },
     "metadata": {},
     "output_type": "display_data"
    },
    {
     "name": "stderr",
     "output_type": "stream",
     "text": [
      "/home/simon/miniconda3/envs/at652/lib/python3.11/site-packages/ipwgml/metrics.py:672: RuntimeWarning: divide by zero encountered in divide\n",
      "  scales = 0.5 * (N - 1) * self.scale / n\n"
     ]
    },
    {
     "data": {
      "application/vnd.jupyter.widget-view+json": {
       "model_id": "b1dd58fb7978482a92ff46c79d4a9e24",
       "version_major": 2,
       "version_minor": 0
      },
      "text/plain": [
       "Output()"
      ]
     },
     "metadata": {},
     "output_type": "display_data"
    },
    {
     "data": {
      "text/html": [
       "<pre style=\"white-space:pre;overflow-x:auto;line-height:normal;font-family:Menlo,'DejaVu Sans Mono',consolas,'Courier New',monospace\"></pre>\n"
      ],
      "text/plain": []
     },
     "metadata": {},
     "output_type": "display_data"
    },
    {
     "name": "stderr",
     "output_type": "stream",
     "text": [
      "/home/simon/miniconda3/envs/at652/lib/python3.11/site-packages/ipwgml/metrics.py:672: RuntimeWarning: divide by zero encountered in divide\n",
      "  scales = 0.5 * (N - 1) * self.scale / n\n"
     ]
    },
    {
     "data": {
      "application/vnd.jupyter.widget-view+json": {
       "model_id": "66a5c9d28f0e40619b718eff786f1f03",
       "version_major": 2,
       "version_minor": 0
      },
      "text/plain": [
       "Output()"
      ]
     },
     "metadata": {},
     "output_type": "display_data"
    },
    {
     "data": {
      "text/html": [
       "<pre style=\"white-space:pre;overflow-x:auto;line-height:normal;font-family:Menlo,'DejaVu Sans Mono',consolas,'Courier New',monospace\"></pre>\n"
      ],
      "text/plain": []
     },
     "metadata": {},
     "output_type": "display_data"
    },
    {
     "name": "stderr",
     "output_type": "stream",
     "text": [
      "/home/simon/miniconda3/envs/at652/lib/python3.11/site-packages/ipwgml/metrics.py:672: RuntimeWarning: divide by zero encountered in divide\n",
      "  scales = 0.5 * (N - 1) * self.scale / n\n"
     ]
    },
    {
     "data": {
      "application/vnd.jupyter.widget-view+json": {
       "model_id": "6c6ae8c6cffd4c5d9c9e1a9a1c96b4e3",
       "version_major": 2,
       "version_minor": 0
      },
      "text/plain": [
       "Output()"
      ]
     },
     "metadata": {},
     "output_type": "display_data"
    },
    {
     "data": {
      "text/html": [
       "<pre style=\"white-space:pre;overflow-x:auto;line-height:normal;font-family:Menlo,'DejaVu Sans Mono',consolas,'Courier New',monospace\"></pre>\n"
      ],
      "text/plain": []
     },
     "metadata": {},
     "output_type": "display_data"
    },
    {
     "name": "stderr",
     "output_type": "stream",
     "text": [
      "/home/simon/miniconda3/envs/at652/lib/python3.11/site-packages/ipwgml/metrics.py:672: RuntimeWarning: divide by zero encountered in divide\n",
      "  scales = 0.5 * (N - 1) * self.scale / n\n"
     ]
    },
    {
     "data": {
      "application/vnd.jupyter.widget-view+json": {
       "model_id": "97e96d0b9aa8409088fd57a70ffbc8d3",
       "version_major": 2,
       "version_minor": 0
      },
      "text/plain": [
       "Output()"
      ]
     },
     "metadata": {},
     "output_type": "display_data"
    },
    {
     "data": {
      "text/html": [
       "<pre style=\"white-space:pre;overflow-x:auto;line-height:normal;font-family:Menlo,'DejaVu Sans Mono',consolas,'Courier New',monospace\"></pre>\n"
      ],
      "text/plain": []
     },
     "metadata": {},
     "output_type": "display_data"
    },
    {
     "name": "stderr",
     "output_type": "stream",
     "text": [
      "/home/simon/miniconda3/envs/at652/lib/python3.11/site-packages/ipwgml/metrics.py:672: RuntimeWarning: divide by zero encountered in divide\n",
      "  scales = 0.5 * (N - 1) * self.scale / n\n"
     ]
    },
    {
     "data": {
      "application/vnd.jupyter.widget-view+json": {
       "model_id": "3a7e7034e9bf49a4b9e7dddf33e7bbf1",
       "version_major": 2,
       "version_minor": 0
      },
      "text/plain": [
       "Output()"
      ]
     },
     "metadata": {},
     "output_type": "display_data"
    },
    {
     "data": {
      "text/html": [
       "<pre style=\"white-space:pre;overflow-x:auto;line-height:normal;font-family:Menlo,'DejaVu Sans Mono',consolas,'Courier New',monospace\"></pre>\n"
      ],
      "text/plain": []
     },
     "metadata": {},
     "output_type": "display_data"
    },
    {
     "name": "stderr",
     "output_type": "stream",
     "text": [
      "/home/simon/miniconda3/envs/at652/lib/python3.11/site-packages/ipwgml/metrics.py:672: RuntimeWarning: divide by zero encountered in divide\n",
      "  scales = 0.5 * (N - 1) * self.scale / n\n"
     ]
    },
    {
     "data": {
      "application/vnd.jupyter.widget-view+json": {
       "model_id": "797949c1d45e4993b967f9378f4e2d93",
       "version_major": 2,
       "version_minor": 0
      },
      "text/plain": [
       "Output()"
      ]
     },
     "metadata": {},
     "output_type": "display_data"
    },
    {
     "data": {
      "text/html": [
       "<pre style=\"white-space:pre;overflow-x:auto;line-height:normal;font-family:Menlo,'DejaVu Sans Mono',consolas,'Courier New',monospace\"></pre>\n"
      ],
      "text/plain": []
     },
     "metadata": {},
     "output_type": "display_data"
    },
    {
     "name": "stderr",
     "output_type": "stream",
     "text": [
      "/home/simon/miniconda3/envs/at652/lib/python3.11/site-packages/ipwgml/metrics.py:672: RuntimeWarning: divide by zero encountered in divide\n",
      "  scales = 0.5 * (N - 1) * self.scale / n\n"
     ]
    },
    {
     "data": {
      "application/vnd.jupyter.widget-view+json": {
       "model_id": "d35ed8673c5b466c9431c738a850263a",
       "version_major": 2,
       "version_minor": 0
      },
      "text/plain": [
       "Output()"
      ]
     },
     "metadata": {},
     "output_type": "display_data"
    },
    {
     "data": {
      "text/html": [
       "<pre style=\"white-space:pre;overflow-x:auto;line-height:normal;font-family:Menlo,'DejaVu Sans Mono',consolas,'Courier New',monospace\"></pre>\n"
      ],
      "text/plain": []
     },
     "metadata": {},
     "output_type": "display_data"
    },
    {
     "name": "stderr",
     "output_type": "stream",
     "text": [
      "/home/simon/miniconda3/envs/at652/lib/python3.11/site-packages/ipwgml/metrics.py:672: RuntimeWarning: divide by zero encountered in divide\n",
      "  scales = 0.5 * (N - 1) * self.scale / n\n"
     ]
    },
    {
     "data": {
      "application/vnd.jupyter.widget-view+json": {
       "model_id": "823de04ad9e94f5fa9595bebf011faa5",
       "version_major": 2,
       "version_minor": 0
      },
      "text/plain": [
       "Output()"
      ]
     },
     "metadata": {},
     "output_type": "display_data"
    },
    {
     "data": {
      "text/html": [
       "<pre style=\"white-space:pre;overflow-x:auto;line-height:normal;font-family:Menlo,'DejaVu Sans Mono',consolas,'Courier New',monospace\"></pre>\n"
      ],
      "text/plain": []
     },
     "metadata": {},
     "output_type": "display_data"
    },
    {
     "name": "stderr",
     "output_type": "stream",
     "text": [
      "/home/simon/miniconda3/envs/at652/lib/python3.11/site-packages/ipwgml/metrics.py:672: RuntimeWarning: divide by zero encountered in divide\n",
      "  scales = 0.5 * (N - 1) * self.scale / n\n"
     ]
    },
    {
     "data": {
      "application/vnd.jupyter.widget-view+json": {
       "model_id": "344e7ca911994b7e9581112cfa86b8c5",
       "version_major": 2,
       "version_minor": 0
      },
      "text/plain": [
       "Output()"
      ]
     },
     "metadata": {},
     "output_type": "display_data"
    },
    {
     "data": {
      "text/html": [
       "<pre style=\"white-space:pre;overflow-x:auto;line-height:normal;font-family:Menlo,'DejaVu Sans Mono',consolas,'Courier New',monospace\"></pre>\n"
      ],
      "text/plain": []
     },
     "metadata": {},
     "output_type": "display_data"
    },
    {
     "name": "stderr",
     "output_type": "stream",
     "text": [
      "/home/simon/miniconda3/envs/at652/lib/python3.11/site-packages/ipwgml/metrics.py:672: RuntimeWarning: divide by zero encountered in divide\n",
      "  scales = 0.5 * (N - 1) * self.scale / n\n"
     ]
    },
    {
     "data": {
      "application/vnd.jupyter.widget-view+json": {
       "model_id": "fadd351a6d9c489cbee5455c0e863cfc",
       "version_major": 2,
       "version_minor": 0
      },
      "text/plain": [
       "Output()"
      ]
     },
     "metadata": {},
     "output_type": "display_data"
    },
    {
     "data": {
      "text/html": [
       "<pre style=\"white-space:pre;overflow-x:auto;line-height:normal;font-family:Menlo,'DejaVu Sans Mono',consolas,'Courier New',monospace\"></pre>\n"
      ],
      "text/plain": []
     },
     "metadata": {},
     "output_type": "display_data"
    },
    {
     "name": "stderr",
     "output_type": "stream",
     "text": [
      "/home/simon/miniconda3/envs/at652/lib/python3.11/site-packages/ipwgml/metrics.py:672: RuntimeWarning: divide by zero encountered in divide\n",
      "  scales = 0.5 * (N - 1) * self.scale / n\n"
     ]
    },
    {
     "data": {
      "application/vnd.jupyter.widget-view+json": {
       "model_id": "51c278ec15884c43a983953ce11591ba",
       "version_major": 2,
       "version_minor": 0
      },
      "text/plain": [
       "Output()"
      ]
     },
     "metadata": {},
     "output_type": "display_data"
    },
    {
     "data": {
      "text/html": [
       "<pre style=\"white-space:pre;overflow-x:auto;line-height:normal;font-family:Menlo,'DejaVu Sans Mono',consolas,'Courier New',monospace\"></pre>\n"
      ],
      "text/plain": []
     },
     "metadata": {},
     "output_type": "display_data"
    },
    {
     "name": "stderr",
     "output_type": "stream",
     "text": [
      "/home/simon/miniconda3/envs/at652/lib/python3.11/site-packages/ipwgml/metrics.py:672: RuntimeWarning: divide by zero encountered in divide\n",
      "  scales = 0.5 * (N - 1) * self.scale / n\n"
     ]
    },
    {
     "data": {
      "application/vnd.jupyter.widget-view+json": {
       "model_id": "0a83585942dc4893995c314734cc7b46",
       "version_major": 2,
       "version_minor": 0
      },
      "text/plain": [
       "Output()"
      ]
     },
     "metadata": {},
     "output_type": "display_data"
    },
    {
     "data": {
      "text/html": [
       "<pre style=\"white-space:pre;overflow-x:auto;line-height:normal;font-family:Menlo,'DejaVu Sans Mono',consolas,'Courier New',monospace\"></pre>\n"
      ],
      "text/plain": []
     },
     "metadata": {},
     "output_type": "display_data"
    },
    {
     "name": "stderr",
     "output_type": "stream",
     "text": [
      "/home/simon/miniconda3/envs/at652/lib/python3.11/site-packages/ipwgml/metrics.py:672: RuntimeWarning: divide by zero encountered in divide\n",
      "  scales = 0.5 * (N - 1) * self.scale / n\n"
     ]
    },
    {
     "data": {
      "application/vnd.jupyter.widget-view+json": {
       "model_id": "45ca06fa6cb14c7e89c8854f9cd7abf4",
       "version_major": 2,
       "version_minor": 0
      },
      "text/plain": [
       "Output()"
      ]
     },
     "metadata": {},
     "output_type": "display_data"
    },
    {
     "data": {
      "text/html": [
       "<pre style=\"white-space:pre;overflow-x:auto;line-height:normal;font-family:Menlo,'DejaVu Sans Mono',consolas,'Courier New',monospace\"></pre>\n"
      ],
      "text/plain": []
     },
     "metadata": {},
     "output_type": "display_data"
    },
    {
     "name": "stderr",
     "output_type": "stream",
     "text": [
      "/home/simon/miniconda3/envs/at652/lib/python3.11/site-packages/ipwgml/metrics.py:672: RuntimeWarning: divide by zero encountered in divide\n",
      "  scales = 0.5 * (N - 1) * self.scale / n\n"
     ]
    },
    {
     "data": {
      "application/vnd.jupyter.widget-view+json": {
       "model_id": "00848dce564c42d8a52b96426253147f",
       "version_major": 2,
       "version_minor": 0
      },
      "text/plain": [
       "Output()"
      ]
     },
     "metadata": {},
     "output_type": "display_data"
    },
    {
     "data": {
      "text/html": [
       "<pre style=\"white-space:pre;overflow-x:auto;line-height:normal;font-family:Menlo,'DejaVu Sans Mono',consolas,'Courier New',monospace\"></pre>\n"
      ],
      "text/plain": []
     },
     "metadata": {},
     "output_type": "display_data"
    },
    {
     "name": "stderr",
     "output_type": "stream",
     "text": [
      "/home/simon/miniconda3/envs/at652/lib/python3.11/site-packages/ipwgml/metrics.py:672: RuntimeWarning: divide by zero encountered in divide\n",
      "  scales = 0.5 * (N - 1) * self.scale / n\n"
     ]
    },
    {
     "data": {
      "application/vnd.jupyter.widget-view+json": {
       "model_id": "07d261e4b5da481582d798c039142126",
       "version_major": 2,
       "version_minor": 0
      },
      "text/plain": [
       "Output()"
      ]
     },
     "metadata": {},
     "output_type": "display_data"
    },
    {
     "data": {
      "text/html": [
       "<pre style=\"white-space:pre;overflow-x:auto;line-height:normal;font-family:Menlo,'DejaVu Sans Mono',consolas,'Courier New',monospace\"></pre>\n"
      ],
      "text/plain": []
     },
     "metadata": {},
     "output_type": "display_data"
    },
    {
     "name": "stderr",
     "output_type": "stream",
     "text": [
      "/home/simon/miniconda3/envs/at652/lib/python3.11/site-packages/ipwgml/metrics.py:672: RuntimeWarning: divide by zero encountered in divide\n",
      "  scales = 0.5 * (N - 1) * self.scale / n\n"
     ]
    },
    {
     "data": {
      "application/vnd.jupyter.widget-view+json": {
       "model_id": "3944c86ef54c43e3bef8cfa1be28d1b4",
       "version_major": 2,
       "version_minor": 0
      },
      "text/plain": [
       "Output()"
      ]
     },
     "metadata": {},
     "output_type": "display_data"
    },
    {
     "data": {
      "text/html": [
       "<pre style=\"white-space:pre;overflow-x:auto;line-height:normal;font-family:Menlo,'DejaVu Sans Mono',consolas,'Courier New',monospace\"></pre>\n"
      ],
      "text/plain": []
     },
     "metadata": {},
     "output_type": "display_data"
    },
    {
     "name": "stderr",
     "output_type": "stream",
     "text": [
      "/home/simon/miniconda3/envs/at652/lib/python3.11/site-packages/ipwgml/metrics.py:672: RuntimeWarning: divide by zero encountered in divide\n",
      "  scales = 0.5 * (N - 1) * self.scale / n\n"
     ]
    },
    {
     "data": {
      "application/vnd.jupyter.widget-view+json": {
       "model_id": "0a96059f7e844d449b419889dffb3275",
       "version_major": 2,
       "version_minor": 0
      },
      "text/plain": [
       "Output()"
      ]
     },
     "metadata": {},
     "output_type": "display_data"
    },
    {
     "data": {
      "text/html": [
       "<pre style=\"white-space:pre;overflow-x:auto;line-height:normal;font-family:Menlo,'DejaVu Sans Mono',consolas,'Courier New',monospace\"></pre>\n"
      ],
      "text/plain": []
     },
     "metadata": {},
     "output_type": "display_data"
    },
    {
     "name": "stderr",
     "output_type": "stream",
     "text": [
      "/home/simon/miniconda3/envs/at652/lib/python3.11/site-packages/ipwgml/metrics.py:672: RuntimeWarning: divide by zero encountered in divide\n",
      "  scales = 0.5 * (N - 1) * self.scale / n\n"
     ]
    },
    {
     "data": {
      "application/vnd.jupyter.widget-view+json": {
       "model_id": "047c22124ef5413986a3900febd1870b",
       "version_major": 2,
       "version_minor": 0
      },
      "text/plain": [
       "Output()"
      ]
     },
     "metadata": {},
     "output_type": "display_data"
    },
    {
     "data": {
      "text/html": [
       "<pre style=\"white-space:pre;overflow-x:auto;line-height:normal;font-family:Menlo,'DejaVu Sans Mono',consolas,'Courier New',monospace\"></pre>\n"
      ],
      "text/plain": []
     },
     "metadata": {},
     "output_type": "display_data"
    },
    {
     "name": "stderr",
     "output_type": "stream",
     "text": [
      "/home/simon/miniconda3/envs/at652/lib/python3.11/site-packages/ipwgml/metrics.py:672: RuntimeWarning: divide by zero encountered in divide\n",
      "  scales = 0.5 * (N - 1) * self.scale / n\n"
     ]
    },
    {
     "data": {
      "application/vnd.jupyter.widget-view+json": {
       "model_id": "2dec8f8a19df4061a52990436cd4c8d1",
       "version_major": 2,
       "version_minor": 0
      },
      "text/plain": [
       "Output()"
      ]
     },
     "metadata": {},
     "output_type": "display_data"
    },
    {
     "data": {
      "text/html": [
       "<pre style=\"white-space:pre;overflow-x:auto;line-height:normal;font-family:Menlo,'DejaVu Sans Mono',consolas,'Courier New',monospace\"></pre>\n"
      ],
      "text/plain": []
     },
     "metadata": {},
     "output_type": "display_data"
    },
    {
     "name": "stderr",
     "output_type": "stream",
     "text": [
      "/home/simon/miniconda3/envs/at652/lib/python3.11/site-packages/ipwgml/metrics.py:672: RuntimeWarning: divide by zero encountered in divide\n",
      "  scales = 0.5 * (N - 1) * self.scale / n\n"
     ]
    },
    {
     "data": {
      "application/vnd.jupyter.widget-view+json": {
       "model_id": "5bc25962eb7b4d0f92369e06dc4f8cdc",
       "version_major": 2,
       "version_minor": 0
      },
      "text/plain": [
       "Output()"
      ]
     },
     "metadata": {},
     "output_type": "display_data"
    },
    {
     "data": {
      "text/html": [
       "<pre style=\"white-space:pre;overflow-x:auto;line-height:normal;font-family:Menlo,'DejaVu Sans Mono',consolas,'Courier New',monospace\"></pre>\n"
      ],
      "text/plain": []
     },
     "metadata": {},
     "output_type": "display_data"
    },
    {
     "name": "stderr",
     "output_type": "stream",
     "text": [
      "/home/simon/miniconda3/envs/at652/lib/python3.11/site-packages/ipwgml/metrics.py:672: RuntimeWarning: divide by zero encountered in divide\n",
      "  scales = 0.5 * (N - 1) * self.scale / n\n"
     ]
    },
    {
     "data": {
      "application/vnd.jupyter.widget-view+json": {
       "model_id": "9d4bb1ee460249a7bdb5f10f6b5e6744",
       "version_major": 2,
       "version_minor": 0
      },
      "text/plain": [
       "Output()"
      ]
     },
     "metadata": {},
     "output_type": "display_data"
    },
    {
     "data": {
      "text/html": [
       "<pre style=\"white-space:pre;overflow-x:auto;line-height:normal;font-family:Menlo,'DejaVu Sans Mono',consolas,'Courier New',monospace\"></pre>\n"
      ],
      "text/plain": []
     },
     "metadata": {},
     "output_type": "display_data"
    },
    {
     "name": "stderr",
     "output_type": "stream",
     "text": [
      "/home/simon/miniconda3/envs/at652/lib/python3.11/site-packages/ipwgml/metrics.py:672: RuntimeWarning: divide by zero encountered in divide\n",
      "  scales = 0.5 * (N - 1) * self.scale / n\n"
     ]
    },
    {
     "data": {
      "application/vnd.jupyter.widget-view+json": {
       "model_id": "bd66be8013114906a69667377ab5a9bf",
       "version_major": 2,
       "version_minor": 0
      },
      "text/plain": [
       "Output()"
      ]
     },
     "metadata": {},
     "output_type": "display_data"
    },
    {
     "data": {
      "text/html": [
       "<pre style=\"white-space:pre;overflow-x:auto;line-height:normal;font-family:Menlo,'DejaVu Sans Mono',consolas,'Courier New',monospace\"></pre>\n"
      ],
      "text/plain": []
     },
     "metadata": {},
     "output_type": "display_data"
    },
    {
     "name": "stderr",
     "output_type": "stream",
     "text": [
      "/home/simon/miniconda3/envs/at652/lib/python3.11/site-packages/ipwgml/metrics.py:672: RuntimeWarning: divide by zero encountered in divide\n",
      "  scales = 0.5 * (N - 1) * self.scale / n\n"
     ]
    },
    {
     "data": {
      "application/vnd.jupyter.widget-view+json": {
       "model_id": "a0dc6b41b0f24f3c9aedb048ea0c2252",
       "version_major": 2,
       "version_minor": 0
      },
      "text/plain": [
       "Output()"
      ]
     },
     "metadata": {},
     "output_type": "display_data"
    },
    {
     "data": {
      "text/html": [
       "<pre style=\"white-space:pre;overflow-x:auto;line-height:normal;font-family:Menlo,'DejaVu Sans Mono',consolas,'Courier New',monospace\"></pre>\n"
      ],
      "text/plain": []
     },
     "metadata": {},
     "output_type": "display_data"
    },
    {
     "name": "stderr",
     "output_type": "stream",
     "text": [
      "/home/simon/miniconda3/envs/at652/lib/python3.11/site-packages/ipwgml/metrics.py:672: RuntimeWarning: divide by zero encountered in divide\n",
      "  scales = 0.5 * (N - 1) * self.scale / n\n"
     ]
    },
    {
     "data": {
      "application/vnd.jupyter.widget-view+json": {
       "model_id": "50234a9761a649118c1a7eb8b9aea78f",
       "version_major": 2,
       "version_minor": 0
      },
      "text/plain": [
       "Output()"
      ]
     },
     "metadata": {},
     "output_type": "display_data"
    },
    {
     "data": {
      "text/html": [
       "<pre style=\"white-space:pre;overflow-x:auto;line-height:normal;font-family:Menlo,'DejaVu Sans Mono',consolas,'Courier New',monospace\"></pre>\n"
      ],
      "text/plain": []
     },
     "metadata": {},
     "output_type": "display_data"
    },
    {
     "name": "stderr",
     "output_type": "stream",
     "text": [
      "/home/simon/miniconda3/envs/at652/lib/python3.11/site-packages/ipwgml/metrics.py:672: RuntimeWarning: divide by zero encountered in divide\n",
      "  scales = 0.5 * (N - 1) * self.scale / n\n"
     ]
    },
    {
     "data": {
      "application/vnd.jupyter.widget-view+json": {
       "model_id": "23ce44ec8d964c3ba15308f523ff2f88",
       "version_major": 2,
       "version_minor": 0
      },
      "text/plain": [
       "Output()"
      ]
     },
     "metadata": {},
     "output_type": "display_data"
    },
    {
     "data": {
      "text/html": [
       "<pre style=\"white-space:pre;overflow-x:auto;line-height:normal;font-family:Menlo,'DejaVu Sans Mono',consolas,'Courier New',monospace\"></pre>\n"
      ],
      "text/plain": []
     },
     "metadata": {},
     "output_type": "display_data"
    },
    {
     "name": "stderr",
     "output_type": "stream",
     "text": [
      "/home/simon/miniconda3/envs/at652/lib/python3.11/site-packages/ipwgml/metrics.py:672: RuntimeWarning: divide by zero encountered in divide\n",
      "  scales = 0.5 * (N - 1) * self.scale / n\n"
     ]
    },
    {
     "data": {
      "application/vnd.jupyter.widget-view+json": {
       "model_id": "7fcbef2cf7104cf3a81978e2c3f6bab5",
       "version_major": 2,
       "version_minor": 0
      },
      "text/plain": [
       "Output()"
      ]
     },
     "metadata": {},
     "output_type": "display_data"
    },
    {
     "data": {
      "text/html": [
       "<pre style=\"white-space:pre;overflow-x:auto;line-height:normal;font-family:Menlo,'DejaVu Sans Mono',consolas,'Courier New',monospace\"></pre>\n"
      ],
      "text/plain": []
     },
     "metadata": {},
     "output_type": "display_data"
    },
    {
     "name": "stderr",
     "output_type": "stream",
     "text": [
      "/home/simon/miniconda3/envs/at652/lib/python3.11/site-packages/ipwgml/metrics.py:672: RuntimeWarning: divide by zero encountered in divide\n",
      "  scales = 0.5 * (N - 1) * self.scale / n\n"
     ]
    },
    {
     "data": {
      "application/vnd.jupyter.widget-view+json": {
       "model_id": "0d16202ba63c400190add16145e1dbad",
       "version_major": 2,
       "version_minor": 0
      },
      "text/plain": [
       "Output()"
      ]
     },
     "metadata": {},
     "output_type": "display_data"
    },
    {
     "data": {
      "text/html": [
       "<pre style=\"white-space:pre;overflow-x:auto;line-height:normal;font-family:Menlo,'DejaVu Sans Mono',consolas,'Courier New',monospace\"></pre>\n"
      ],
      "text/plain": []
     },
     "metadata": {},
     "output_type": "display_data"
    },
    {
     "name": "stderr",
     "output_type": "stream",
     "text": [
      "/home/simon/miniconda3/envs/at652/lib/python3.11/site-packages/ipwgml/metrics.py:672: RuntimeWarning: divide by zero encountered in divide\n",
      "  scales = 0.5 * (N - 1) * self.scale / n\n"
     ]
    },
    {
     "data": {
      "application/vnd.jupyter.widget-view+json": {
       "model_id": "3e7a570649864b77b459fca076c56255",
       "version_major": 2,
       "version_minor": 0
      },
      "text/plain": [
       "Output()"
      ]
     },
     "metadata": {},
     "output_type": "display_data"
    },
    {
     "data": {
      "text/html": [
       "<pre style=\"white-space:pre;overflow-x:auto;line-height:normal;font-family:Menlo,'DejaVu Sans Mono',consolas,'Courier New',monospace\"></pre>\n"
      ],
      "text/plain": []
     },
     "metadata": {},
     "output_type": "display_data"
    },
    {
     "name": "stderr",
     "output_type": "stream",
     "text": [
      "/home/simon/miniconda3/envs/at652/lib/python3.11/site-packages/ipwgml/metrics.py:672: RuntimeWarning: divide by zero encountered in divide\n",
      "  scales = 0.5 * (N - 1) * self.scale / n\n"
     ]
    }
   ],
   "source": [
    "from xgboost import XGBRegressor\n",
    "n_samples = x.shape[0]\n",
    "\n",
    "sizes = [0.1, 0.3, 0.5, 0.7, 0.9, 0.99]\n",
    "results = []\n",
    "n_repeats = 5\n",
    "\n",
    "for size in sizes:\n",
    "    results.append([])\n",
    "    for repeat in range(n_repeats):\n",
    "        x_train, _, y_train, _ = train_test_split(\n",
    "            x, y, train_size=size, test_size=1.0 - size\n",
    "        )\n",
    "        rf_regressor = XGBRegressor(n_estimators=1_000, max_depth=10, random_state=2, n_jobs=16)\n",
    "        rf_regressor.fit(x_train, y_train)\n",
    "    \n",
    "        evaluator = Evaluator(\n",
    "            reference_sensor=\"gmi\",\n",
    "            geometry=\"on_swath\",\n",
    "            retrieval_input=[\"gmi\"],\n",
    "        )\n",
    "        evaluator.evaluate(run_retrieval, input_data_format=\"tabular\", batch_size=4096)\n",
    "        results[-1].append(evaluator.get_results())\n",
    "    results[-1] = xr.concat(results[-1], dim=\"repeats\")\n",
    "    \n"
   ]
  },
  {
   "cell_type": "code",
   "execution_count": 9,
   "id": "9a21af85-e780-40bf-82c3-9e3b7e11f4cd",
   "metadata": {
    "editable": true,
    "slideshow": {
     "slide_type": ""
    },
    "tags": []
   },
   "outputs": [
    {
     "data": {
      "text/html": [
       "<div><svg style=\"position: absolute; width: 0; height: 0; overflow: hidden\">\n",
       "<defs>\n",
       "<symbol id=\"icon-database\" viewBox=\"0 0 32 32\">\n",
       "<path d=\"M16 0c-8.837 0-16 2.239-16 5v4c0 2.761 7.163 5 16 5s16-2.239 16-5v-4c0-2.761-7.163-5-16-5z\"></path>\n",
       "<path d=\"M16 17c-8.837 0-16-2.239-16-5v6c0 2.761 7.163 5 16 5s16-2.239 16-5v-6c0 2.761-7.163 5-16 5z\"></path>\n",
       "<path d=\"M16 26c-8.837 0-16-2.239-16-5v6c0 2.761 7.163 5 16 5s16-2.239 16-5v-6c0 2.761-7.163 5-16 5z\"></path>\n",
       "</symbol>\n",
       "<symbol id=\"icon-file-text2\" viewBox=\"0 0 32 32\">\n",
       "<path d=\"M28.681 7.159c-0.694-0.947-1.662-2.053-2.724-3.116s-2.169-2.030-3.116-2.724c-1.612-1.182-2.393-1.319-2.841-1.319h-15.5c-1.378 0-2.5 1.121-2.5 2.5v27c0 1.378 1.122 2.5 2.5 2.5h23c1.378 0 2.5-1.122 2.5-2.5v-19.5c0-0.448-0.137-1.23-1.319-2.841zM24.543 5.457c0.959 0.959 1.712 1.825 2.268 2.543h-4.811v-4.811c0.718 0.556 1.584 1.309 2.543 2.268zM28 29.5c0 0.271-0.229 0.5-0.5 0.5h-23c-0.271 0-0.5-0.229-0.5-0.5v-27c0-0.271 0.229-0.5 0.5-0.5 0 0 15.499-0 15.5 0v7c0 0.552 0.448 1 1 1h7v19.5z\"></path>\n",
       "<path d=\"M23 26h-14c-0.552 0-1-0.448-1-1s0.448-1 1-1h14c0.552 0 1 0.448 1 1s-0.448 1-1 1z\"></path>\n",
       "<path d=\"M23 22h-14c-0.552 0-1-0.448-1-1s0.448-1 1-1h14c0.552 0 1 0.448 1 1s-0.448 1-1 1z\"></path>\n",
       "<path d=\"M23 18h-14c-0.552 0-1-0.448-1-1s0.448-1 1-1h14c0.552 0 1 0.448 1 1s-0.448 1-1 1z\"></path>\n",
       "</symbol>\n",
       "</defs>\n",
       "</svg>\n",
       "<style>/* CSS stylesheet for displaying xarray objects in jupyterlab.\n",
       " *\n",
       " */\n",
       "\n",
       ":root {\n",
       "  --xr-font-color0: var(--jp-content-font-color0, rgba(0, 0, 0, 1));\n",
       "  --xr-font-color2: var(--jp-content-font-color2, rgba(0, 0, 0, 0.54));\n",
       "  --xr-font-color3: var(--jp-content-font-color3, rgba(0, 0, 0, 0.38));\n",
       "  --xr-border-color: var(--jp-border-color2, #e0e0e0);\n",
       "  --xr-disabled-color: var(--jp-layout-color3, #bdbdbd);\n",
       "  --xr-background-color: var(--jp-layout-color0, white);\n",
       "  --xr-background-color-row-even: var(--jp-layout-color1, white);\n",
       "  --xr-background-color-row-odd: var(--jp-layout-color2, #eeeeee);\n",
       "}\n",
       "\n",
       "html[theme=dark],\n",
       "html[data-theme=dark],\n",
       "body[data-theme=dark],\n",
       "body.vscode-dark {\n",
       "  --xr-font-color0: rgba(255, 255, 255, 1);\n",
       "  --xr-font-color2: rgba(255, 255, 255, 0.54);\n",
       "  --xr-font-color3: rgba(255, 255, 255, 0.38);\n",
       "  --xr-border-color: #1F1F1F;\n",
       "  --xr-disabled-color: #515151;\n",
       "  --xr-background-color: #111111;\n",
       "  --xr-background-color-row-even: #111111;\n",
       "  --xr-background-color-row-odd: #313131;\n",
       "}\n",
       "\n",
       ".xr-wrap {\n",
       "  display: block !important;\n",
       "  min-width: 300px;\n",
       "  max-width: 700px;\n",
       "}\n",
       "\n",
       ".xr-text-repr-fallback {\n",
       "  /* fallback to plain text repr when CSS is not injected (untrusted notebook) */\n",
       "  display: none;\n",
       "}\n",
       "\n",
       ".xr-header {\n",
       "  padding-top: 6px;\n",
       "  padding-bottom: 6px;\n",
       "  margin-bottom: 4px;\n",
       "  border-bottom: solid 1px var(--xr-border-color);\n",
       "}\n",
       "\n",
       ".xr-header > div,\n",
       ".xr-header > ul {\n",
       "  display: inline;\n",
       "  margin-top: 0;\n",
       "  margin-bottom: 0;\n",
       "}\n",
       "\n",
       ".xr-obj-type,\n",
       ".xr-array-name {\n",
       "  margin-left: 2px;\n",
       "  margin-right: 10px;\n",
       "}\n",
       "\n",
       ".xr-obj-type {\n",
       "  color: var(--xr-font-color2);\n",
       "}\n",
       "\n",
       ".xr-sections {\n",
       "  padding-left: 0 !important;\n",
       "  display: grid;\n",
       "  grid-template-columns: 150px auto auto 1fr 0 20px 0 20px;\n",
       "}\n",
       "\n",
       ".xr-section-item {\n",
       "  display: contents;\n",
       "}\n",
       "\n",
       ".xr-section-item input {\n",
       "  display: inline-block;\n",
       "  opacity: 0;\n",
       "}\n",
       "\n",
       ".xr-section-item input + label {\n",
       "  color: var(--xr-disabled-color);\n",
       "}\n",
       "\n",
       ".xr-section-item input:enabled + label {\n",
       "  cursor: pointer;\n",
       "  color: var(--xr-font-color2);\n",
       "}\n",
       "\n",
       ".xr-section-item input:focus + label {\n",
       "  border: 2px solid var(--xr-font-color0);\n",
       "}\n",
       "\n",
       ".xr-section-item input:enabled + label:hover {\n",
       "  color: var(--xr-font-color0);\n",
       "}\n",
       "\n",
       ".xr-section-summary {\n",
       "  grid-column: 1;\n",
       "  color: var(--xr-font-color2);\n",
       "  font-weight: 500;\n",
       "}\n",
       "\n",
       ".xr-section-summary > span {\n",
       "  display: inline-block;\n",
       "  padding-left: 0.5em;\n",
       "}\n",
       "\n",
       ".xr-section-summary-in:disabled + label {\n",
       "  color: var(--xr-font-color2);\n",
       "}\n",
       "\n",
       ".xr-section-summary-in + label:before {\n",
       "  display: inline-block;\n",
       "  content: '►';\n",
       "  font-size: 11px;\n",
       "  width: 15px;\n",
       "  text-align: center;\n",
       "}\n",
       "\n",
       ".xr-section-summary-in:disabled + label:before {\n",
       "  color: var(--xr-disabled-color);\n",
       "}\n",
       "\n",
       ".xr-section-summary-in:checked + label:before {\n",
       "  content: '▼';\n",
       "}\n",
       "\n",
       ".xr-section-summary-in:checked + label > span {\n",
       "  display: none;\n",
       "}\n",
       "\n",
       ".xr-section-summary,\n",
       ".xr-section-inline-details {\n",
       "  padding-top: 4px;\n",
       "  padding-bottom: 4px;\n",
       "}\n",
       "\n",
       ".xr-section-inline-details {\n",
       "  grid-column: 2 / -1;\n",
       "}\n",
       "\n",
       ".xr-section-details {\n",
       "  display: none;\n",
       "  grid-column: 1 / -1;\n",
       "  margin-bottom: 5px;\n",
       "}\n",
       "\n",
       ".xr-section-summary-in:checked ~ .xr-section-details {\n",
       "  display: contents;\n",
       "}\n",
       "\n",
       ".xr-array-wrap {\n",
       "  grid-column: 1 / -1;\n",
       "  display: grid;\n",
       "  grid-template-columns: 20px auto;\n",
       "}\n",
       "\n",
       ".xr-array-wrap > label {\n",
       "  grid-column: 1;\n",
       "  vertical-align: top;\n",
       "}\n",
       "\n",
       ".xr-preview {\n",
       "  color: var(--xr-font-color3);\n",
       "}\n",
       "\n",
       ".xr-array-preview,\n",
       ".xr-array-data {\n",
       "  padding: 0 5px !important;\n",
       "  grid-column: 2;\n",
       "}\n",
       "\n",
       ".xr-array-data,\n",
       ".xr-array-in:checked ~ .xr-array-preview {\n",
       "  display: none;\n",
       "}\n",
       "\n",
       ".xr-array-in:checked ~ .xr-array-data,\n",
       ".xr-array-preview {\n",
       "  display: inline-block;\n",
       "}\n",
       "\n",
       ".xr-dim-list {\n",
       "  display: inline-block !important;\n",
       "  list-style: none;\n",
       "  padding: 0 !important;\n",
       "  margin: 0;\n",
       "}\n",
       "\n",
       ".xr-dim-list li {\n",
       "  display: inline-block;\n",
       "  padding: 0;\n",
       "  margin: 0;\n",
       "}\n",
       "\n",
       ".xr-dim-list:before {\n",
       "  content: '(';\n",
       "}\n",
       "\n",
       ".xr-dim-list:after {\n",
       "  content: ')';\n",
       "}\n",
       "\n",
       ".xr-dim-list li:not(:last-child):after {\n",
       "  content: ',';\n",
       "  padding-right: 5px;\n",
       "}\n",
       "\n",
       ".xr-has-index {\n",
       "  font-weight: bold;\n",
       "}\n",
       "\n",
       ".xr-var-list,\n",
       ".xr-var-item {\n",
       "  display: contents;\n",
       "}\n",
       "\n",
       ".xr-var-item > div,\n",
       ".xr-var-item label,\n",
       ".xr-var-item > .xr-var-name span {\n",
       "  background-color: var(--xr-background-color-row-even);\n",
       "  margin-bottom: 0;\n",
       "}\n",
       "\n",
       ".xr-var-item > .xr-var-name:hover span {\n",
       "  padding-right: 5px;\n",
       "}\n",
       "\n",
       ".xr-var-list > li:nth-child(odd) > div,\n",
       ".xr-var-list > li:nth-child(odd) > label,\n",
       ".xr-var-list > li:nth-child(odd) > .xr-var-name span {\n",
       "  background-color: var(--xr-background-color-row-odd);\n",
       "}\n",
       "\n",
       ".xr-var-name {\n",
       "  grid-column: 1;\n",
       "}\n",
       "\n",
       ".xr-var-dims {\n",
       "  grid-column: 2;\n",
       "}\n",
       "\n",
       ".xr-var-dtype {\n",
       "  grid-column: 3;\n",
       "  text-align: right;\n",
       "  color: var(--xr-font-color2);\n",
       "}\n",
       "\n",
       ".xr-var-preview {\n",
       "  grid-column: 4;\n",
       "}\n",
       "\n",
       ".xr-index-preview {\n",
       "  grid-column: 2 / 5;\n",
       "  color: var(--xr-font-color2);\n",
       "}\n",
       "\n",
       ".xr-var-name,\n",
       ".xr-var-dims,\n",
       ".xr-var-dtype,\n",
       ".xr-preview,\n",
       ".xr-attrs dt {\n",
       "  white-space: nowrap;\n",
       "  overflow: hidden;\n",
       "  text-overflow: ellipsis;\n",
       "  padding-right: 10px;\n",
       "}\n",
       "\n",
       ".xr-var-name:hover,\n",
       ".xr-var-dims:hover,\n",
       ".xr-var-dtype:hover,\n",
       ".xr-attrs dt:hover {\n",
       "  overflow: visible;\n",
       "  width: auto;\n",
       "  z-index: 1;\n",
       "}\n",
       "\n",
       ".xr-var-attrs,\n",
       ".xr-var-data,\n",
       ".xr-index-data {\n",
       "  display: none;\n",
       "  background-color: var(--xr-background-color) !important;\n",
       "  padding-bottom: 5px !important;\n",
       "}\n",
       "\n",
       ".xr-var-attrs-in:checked ~ .xr-var-attrs,\n",
       ".xr-var-data-in:checked ~ .xr-var-data,\n",
       ".xr-index-data-in:checked ~ .xr-index-data {\n",
       "  display: block;\n",
       "}\n",
       "\n",
       ".xr-var-data > table {\n",
       "  float: right;\n",
       "}\n",
       "\n",
       ".xr-var-name span,\n",
       ".xr-var-data,\n",
       ".xr-index-name div,\n",
       ".xr-index-data,\n",
       ".xr-attrs {\n",
       "  padding-left: 25px !important;\n",
       "}\n",
       "\n",
       ".xr-attrs,\n",
       ".xr-var-attrs,\n",
       ".xr-var-data,\n",
       ".xr-index-data {\n",
       "  grid-column: 1 / -1;\n",
       "}\n",
       "\n",
       "dl.xr-attrs {\n",
       "  padding: 0;\n",
       "  margin: 0;\n",
       "  display: grid;\n",
       "  grid-template-columns: 125px auto;\n",
       "}\n",
       "\n",
       ".xr-attrs dt,\n",
       ".xr-attrs dd {\n",
       "  padding: 0;\n",
       "  margin: 0;\n",
       "  float: left;\n",
       "  padding-right: 10px;\n",
       "  width: auto;\n",
       "}\n",
       "\n",
       ".xr-attrs dt {\n",
       "  font-weight: normal;\n",
       "  grid-column: 1;\n",
       "}\n",
       "\n",
       ".xr-attrs dt:hover span {\n",
       "  display: inline-block;\n",
       "  background: var(--xr-background-color);\n",
       "  padding-right: 10px;\n",
       "}\n",
       "\n",
       ".xr-attrs dd {\n",
       "  grid-column: 2;\n",
       "  white-space: pre-wrap;\n",
       "  word-break: break-all;\n",
       "}\n",
       "\n",
       ".xr-icon-database,\n",
       ".xr-icon-file-text2,\n",
       ".xr-no-icon {\n",
       "  display: inline-block;\n",
       "  vertical-align: middle;\n",
       "  width: 1em;\n",
       "  height: 1.5em !important;\n",
       "  stroke-width: 0;\n",
       "  stroke: currentColor;\n",
       "  fill: currentColor;\n",
       "}\n",
       "</style><pre class='xr-text-repr-fallback'>&lt;xarray.DataArray &#x27;size&#x27; (size: 6)&gt; Size: 48B\n",
       "array([0, 1, 2, 3, 4, 5])\n",
       "Dimensions without coordinates: size</pre><div class='xr-wrap' style='display:none'><div class='xr-header'><div class='xr-obj-type'>xarray.DataArray</div><div class='xr-array-name'>'size'</div><ul class='xr-dim-list'><li><span>size</span>: 6</li></ul></div><ul class='xr-sections'><li class='xr-section-item'><div class='xr-array-wrap'><input id='section-1732cd2f-3b5e-4e20-bfb4-99b242cbf666' class='xr-array-in' type='checkbox' checked><label for='section-1732cd2f-3b5e-4e20-bfb4-99b242cbf666' title='Show/hide data repr'><svg class='icon xr-icon-database'><use xlink:href='#icon-database'></use></svg></label><div class='xr-array-preview xr-preview'><span>0 1 2 3 4 5</span></div><div class='xr-array-data'><pre>array([0, 1, 2, 3, 4, 5])</pre></div></div></li><li class='xr-section-item'><input id='section-dfd11b8a-df9d-45a6-a83c-473892e03a3a' class='xr-section-summary-in' type='checkbox' disabled ><label for='section-dfd11b8a-df9d-45a6-a83c-473892e03a3a' class='xr-section-summary'  title='Expand/collapse section'>Coordinates: <span>(0)</span></label><div class='xr-section-inline-details'></div><div class='xr-section-details'><ul class='xr-var-list'></ul></div></li><li class='xr-section-item'><input id='section-b9488be5-432a-4230-ac37-5298f05a3332' class='xr-section-summary-in' type='checkbox' disabled ><label for='section-b9488be5-432a-4230-ac37-5298f05a3332' class='xr-section-summary'  title='Expand/collapse section'>Indexes: <span>(0)</span></label><div class='xr-section-inline-details'></div><div class='xr-section-details'><ul class='xr-var-list'></ul></div></li><li class='xr-section-item'><input id='section-c06ee0f4-4bf2-42ee-a89c-2008f3aa4fe6' class='xr-section-summary-in' type='checkbox' disabled ><label for='section-c06ee0f4-4bf2-42ee-a89c-2008f3aa4fe6' class='xr-section-summary'  title='Expand/collapse section'>Attributes: <span>(0)</span></label><div class='xr-section-inline-details'></div><div class='xr-section-details'><dl class='xr-attrs'></dl></div></li></ul></div></div>"
      ],
      "text/plain": [
       "<xarray.DataArray 'size' (size: 6)> Size: 48B\n",
       "array([0, 1, 2, 3, 4, 5])\n",
       "Dimensions without coordinates: size"
      ]
     },
     "execution_count": 9,
     "metadata": {},
     "output_type": "execute_result"
    }
   ],
   "source": [
    "results.size"
   ]
  },
  {
   "cell_type": "code",
   "execution_count": 8,
   "id": "a0eda1da-efe8-4698-86e5-86826caf2f18",
   "metadata": {
    "editable": true,
    "slideshow": {
     "slide_type": ""
    },
    "tags": []
   },
   "outputs": [],
   "source": [
    "results = xr.concat(results, dim=\"size\")\n",
    "results.to_netcdf(\"xgboost_sample_efficiency.nc\")"
   ]
  },
  {
   "cell_type": "code",
   "execution_count": 3,
   "id": "962d7b4d-5e84-4bd8-a84e-1313574c5669",
   "metadata": {
    "editable": true,
    "slideshow": {
     "slide_type": ""
    },
    "tags": []
   },
   "outputs": [],
   "source": [
    "results_nn = xr.load_dataset(\"neural_network_sample_efficiency.nc\")\n",
    "results_xgboost = xr.load_dataset(\"xgboost_sample_efficiency.nc\")"
   ]
  },
  {
   "cell_type": "code",
   "execution_count": 17,
   "id": "97765623-39c7-440e-87f1-0b443d78640a",
   "metadata": {
    "editable": true,
    "slideshow": {
     "slide_type": ""
    },
    "tags": []
   },
   "outputs": [
    {
     "data": {
      "text/html": [
       "<div><svg style=\"position: absolute; width: 0; height: 0; overflow: hidden\">\n",
       "<defs>\n",
       "<symbol id=\"icon-database\" viewBox=\"0 0 32 32\">\n",
       "<path d=\"M16 0c-8.837 0-16 2.239-16 5v4c0 2.761 7.163 5 16 5s16-2.239 16-5v-4c0-2.761-7.163-5-16-5z\"></path>\n",
       "<path d=\"M16 17c-8.837 0-16-2.239-16-5v6c0 2.761 7.163 5 16 5s16-2.239 16-5v-6c0 2.761-7.163 5-16 5z\"></path>\n",
       "<path d=\"M16 26c-8.837 0-16-2.239-16-5v6c0 2.761 7.163 5 16 5s16-2.239 16-5v-6c0 2.761-7.163 5-16 5z\"></path>\n",
       "</symbol>\n",
       "<symbol id=\"icon-file-text2\" viewBox=\"0 0 32 32\">\n",
       "<path d=\"M28.681 7.159c-0.694-0.947-1.662-2.053-2.724-3.116s-2.169-2.030-3.116-2.724c-1.612-1.182-2.393-1.319-2.841-1.319h-15.5c-1.378 0-2.5 1.121-2.5 2.5v27c0 1.378 1.122 2.5 2.5 2.5h23c1.378 0 2.5-1.122 2.5-2.5v-19.5c0-0.448-0.137-1.23-1.319-2.841zM24.543 5.457c0.959 0.959 1.712 1.825 2.268 2.543h-4.811v-4.811c0.718 0.556 1.584 1.309 2.543 2.268zM28 29.5c0 0.271-0.229 0.5-0.5 0.5h-23c-0.271 0-0.5-0.229-0.5-0.5v-27c0-0.271 0.229-0.5 0.5-0.5 0 0 15.499-0 15.5 0v7c0 0.552 0.448 1 1 1h7v19.5z\"></path>\n",
       "<path d=\"M23 26h-14c-0.552 0-1-0.448-1-1s0.448-1 1-1h14c0.552 0 1 0.448 1 1s-0.448 1-1 1z\"></path>\n",
       "<path d=\"M23 22h-14c-0.552 0-1-0.448-1-1s0.448-1 1-1h14c0.552 0 1 0.448 1 1s-0.448 1-1 1z\"></path>\n",
       "<path d=\"M23 18h-14c-0.552 0-1-0.448-1-1s0.448-1 1-1h14c0.552 0 1 0.448 1 1s-0.448 1-1 1z\"></path>\n",
       "</symbol>\n",
       "</defs>\n",
       "</svg>\n",
       "<style>/* CSS stylesheet for displaying xarray objects in jupyterlab.\n",
       " *\n",
       " */\n",
       "\n",
       ":root {\n",
       "  --xr-font-color0: var(--jp-content-font-color0, rgba(0, 0, 0, 1));\n",
       "  --xr-font-color2: var(--jp-content-font-color2, rgba(0, 0, 0, 0.54));\n",
       "  --xr-font-color3: var(--jp-content-font-color3, rgba(0, 0, 0, 0.38));\n",
       "  --xr-border-color: var(--jp-border-color2, #e0e0e0);\n",
       "  --xr-disabled-color: var(--jp-layout-color3, #bdbdbd);\n",
       "  --xr-background-color: var(--jp-layout-color0, white);\n",
       "  --xr-background-color-row-even: var(--jp-layout-color1, white);\n",
       "  --xr-background-color-row-odd: var(--jp-layout-color2, #eeeeee);\n",
       "}\n",
       "\n",
       "html[theme=dark],\n",
       "html[data-theme=dark],\n",
       "body[data-theme=dark],\n",
       "body.vscode-dark {\n",
       "  --xr-font-color0: rgba(255, 255, 255, 1);\n",
       "  --xr-font-color2: rgba(255, 255, 255, 0.54);\n",
       "  --xr-font-color3: rgba(255, 255, 255, 0.38);\n",
       "  --xr-border-color: #1F1F1F;\n",
       "  --xr-disabled-color: #515151;\n",
       "  --xr-background-color: #111111;\n",
       "  --xr-background-color-row-even: #111111;\n",
       "  --xr-background-color-row-odd: #313131;\n",
       "}\n",
       "\n",
       ".xr-wrap {\n",
       "  display: block !important;\n",
       "  min-width: 300px;\n",
       "  max-width: 700px;\n",
       "}\n",
       "\n",
       ".xr-text-repr-fallback {\n",
       "  /* fallback to plain text repr when CSS is not injected (untrusted notebook) */\n",
       "  display: none;\n",
       "}\n",
       "\n",
       ".xr-header {\n",
       "  padding-top: 6px;\n",
       "  padding-bottom: 6px;\n",
       "  margin-bottom: 4px;\n",
       "  border-bottom: solid 1px var(--xr-border-color);\n",
       "}\n",
       "\n",
       ".xr-header > div,\n",
       ".xr-header > ul {\n",
       "  display: inline;\n",
       "  margin-top: 0;\n",
       "  margin-bottom: 0;\n",
       "}\n",
       "\n",
       ".xr-obj-type,\n",
       ".xr-array-name {\n",
       "  margin-left: 2px;\n",
       "  margin-right: 10px;\n",
       "}\n",
       "\n",
       ".xr-obj-type {\n",
       "  color: var(--xr-font-color2);\n",
       "}\n",
       "\n",
       ".xr-sections {\n",
       "  padding-left: 0 !important;\n",
       "  display: grid;\n",
       "  grid-template-columns: 150px auto auto 1fr 0 20px 0 20px;\n",
       "}\n",
       "\n",
       ".xr-section-item {\n",
       "  display: contents;\n",
       "}\n",
       "\n",
       ".xr-section-item input {\n",
       "  display: inline-block;\n",
       "  opacity: 0;\n",
       "}\n",
       "\n",
       ".xr-section-item input + label {\n",
       "  color: var(--xr-disabled-color);\n",
       "}\n",
       "\n",
       ".xr-section-item input:enabled + label {\n",
       "  cursor: pointer;\n",
       "  color: var(--xr-font-color2);\n",
       "}\n",
       "\n",
       ".xr-section-item input:focus + label {\n",
       "  border: 2px solid var(--xr-font-color0);\n",
       "}\n",
       "\n",
       ".xr-section-item input:enabled + label:hover {\n",
       "  color: var(--xr-font-color0);\n",
       "}\n",
       "\n",
       ".xr-section-summary {\n",
       "  grid-column: 1;\n",
       "  color: var(--xr-font-color2);\n",
       "  font-weight: 500;\n",
       "}\n",
       "\n",
       ".xr-section-summary > span {\n",
       "  display: inline-block;\n",
       "  padding-left: 0.5em;\n",
       "}\n",
       "\n",
       ".xr-section-summary-in:disabled + label {\n",
       "  color: var(--xr-font-color2);\n",
       "}\n",
       "\n",
       ".xr-section-summary-in + label:before {\n",
       "  display: inline-block;\n",
       "  content: '►';\n",
       "  font-size: 11px;\n",
       "  width: 15px;\n",
       "  text-align: center;\n",
       "}\n",
       "\n",
       ".xr-section-summary-in:disabled + label:before {\n",
       "  color: var(--xr-disabled-color);\n",
       "}\n",
       "\n",
       ".xr-section-summary-in:checked + label:before {\n",
       "  content: '▼';\n",
       "}\n",
       "\n",
       ".xr-section-summary-in:checked + label > span {\n",
       "  display: none;\n",
       "}\n",
       "\n",
       ".xr-section-summary,\n",
       ".xr-section-inline-details {\n",
       "  padding-top: 4px;\n",
       "  padding-bottom: 4px;\n",
       "}\n",
       "\n",
       ".xr-section-inline-details {\n",
       "  grid-column: 2 / -1;\n",
       "}\n",
       "\n",
       ".xr-section-details {\n",
       "  display: none;\n",
       "  grid-column: 1 / -1;\n",
       "  margin-bottom: 5px;\n",
       "}\n",
       "\n",
       ".xr-section-summary-in:checked ~ .xr-section-details {\n",
       "  display: contents;\n",
       "}\n",
       "\n",
       ".xr-array-wrap {\n",
       "  grid-column: 1 / -1;\n",
       "  display: grid;\n",
       "  grid-template-columns: 20px auto;\n",
       "}\n",
       "\n",
       ".xr-array-wrap > label {\n",
       "  grid-column: 1;\n",
       "  vertical-align: top;\n",
       "}\n",
       "\n",
       ".xr-preview {\n",
       "  color: var(--xr-font-color3);\n",
       "}\n",
       "\n",
       ".xr-array-preview,\n",
       ".xr-array-data {\n",
       "  padding: 0 5px !important;\n",
       "  grid-column: 2;\n",
       "}\n",
       "\n",
       ".xr-array-data,\n",
       ".xr-array-in:checked ~ .xr-array-preview {\n",
       "  display: none;\n",
       "}\n",
       "\n",
       ".xr-array-in:checked ~ .xr-array-data,\n",
       ".xr-array-preview {\n",
       "  display: inline-block;\n",
       "}\n",
       "\n",
       ".xr-dim-list {\n",
       "  display: inline-block !important;\n",
       "  list-style: none;\n",
       "  padding: 0 !important;\n",
       "  margin: 0;\n",
       "}\n",
       "\n",
       ".xr-dim-list li {\n",
       "  display: inline-block;\n",
       "  padding: 0;\n",
       "  margin: 0;\n",
       "}\n",
       "\n",
       ".xr-dim-list:before {\n",
       "  content: '(';\n",
       "}\n",
       "\n",
       ".xr-dim-list:after {\n",
       "  content: ')';\n",
       "}\n",
       "\n",
       ".xr-dim-list li:not(:last-child):after {\n",
       "  content: ',';\n",
       "  padding-right: 5px;\n",
       "}\n",
       "\n",
       ".xr-has-index {\n",
       "  font-weight: bold;\n",
       "}\n",
       "\n",
       ".xr-var-list,\n",
       ".xr-var-item {\n",
       "  display: contents;\n",
       "}\n",
       "\n",
       ".xr-var-item > div,\n",
       ".xr-var-item label,\n",
       ".xr-var-item > .xr-var-name span {\n",
       "  background-color: var(--xr-background-color-row-even);\n",
       "  margin-bottom: 0;\n",
       "}\n",
       "\n",
       ".xr-var-item > .xr-var-name:hover span {\n",
       "  padding-right: 5px;\n",
       "}\n",
       "\n",
       ".xr-var-list > li:nth-child(odd) > div,\n",
       ".xr-var-list > li:nth-child(odd) > label,\n",
       ".xr-var-list > li:nth-child(odd) > .xr-var-name span {\n",
       "  background-color: var(--xr-background-color-row-odd);\n",
       "}\n",
       "\n",
       ".xr-var-name {\n",
       "  grid-column: 1;\n",
       "}\n",
       "\n",
       ".xr-var-dims {\n",
       "  grid-column: 2;\n",
       "}\n",
       "\n",
       ".xr-var-dtype {\n",
       "  grid-column: 3;\n",
       "  text-align: right;\n",
       "  color: var(--xr-font-color2);\n",
       "}\n",
       "\n",
       ".xr-var-preview {\n",
       "  grid-column: 4;\n",
       "}\n",
       "\n",
       ".xr-index-preview {\n",
       "  grid-column: 2 / 5;\n",
       "  color: var(--xr-font-color2);\n",
       "}\n",
       "\n",
       ".xr-var-name,\n",
       ".xr-var-dims,\n",
       ".xr-var-dtype,\n",
       ".xr-preview,\n",
       ".xr-attrs dt {\n",
       "  white-space: nowrap;\n",
       "  overflow: hidden;\n",
       "  text-overflow: ellipsis;\n",
       "  padding-right: 10px;\n",
       "}\n",
       "\n",
       ".xr-var-name:hover,\n",
       ".xr-var-dims:hover,\n",
       ".xr-var-dtype:hover,\n",
       ".xr-attrs dt:hover {\n",
       "  overflow: visible;\n",
       "  width: auto;\n",
       "  z-index: 1;\n",
       "}\n",
       "\n",
       ".xr-var-attrs,\n",
       ".xr-var-data,\n",
       ".xr-index-data {\n",
       "  display: none;\n",
       "  background-color: var(--xr-background-color) !important;\n",
       "  padding-bottom: 5px !important;\n",
       "}\n",
       "\n",
       ".xr-var-attrs-in:checked ~ .xr-var-attrs,\n",
       ".xr-var-data-in:checked ~ .xr-var-data,\n",
       ".xr-index-data-in:checked ~ .xr-index-data {\n",
       "  display: block;\n",
       "}\n",
       "\n",
       ".xr-var-data > table {\n",
       "  float: right;\n",
       "}\n",
       "\n",
       ".xr-var-name span,\n",
       ".xr-var-data,\n",
       ".xr-index-name div,\n",
       ".xr-index-data,\n",
       ".xr-attrs {\n",
       "  padding-left: 25px !important;\n",
       "}\n",
       "\n",
       ".xr-attrs,\n",
       ".xr-var-attrs,\n",
       ".xr-var-data,\n",
       ".xr-index-data {\n",
       "  grid-column: 1 / -1;\n",
       "}\n",
       "\n",
       "dl.xr-attrs {\n",
       "  padding: 0;\n",
       "  margin: 0;\n",
       "  display: grid;\n",
       "  grid-template-columns: 125px auto;\n",
       "}\n",
       "\n",
       ".xr-attrs dt,\n",
       ".xr-attrs dd {\n",
       "  padding: 0;\n",
       "  margin: 0;\n",
       "  float: left;\n",
       "  padding-right: 10px;\n",
       "  width: auto;\n",
       "}\n",
       "\n",
       ".xr-attrs dt {\n",
       "  font-weight: normal;\n",
       "  grid-column: 1;\n",
       "}\n",
       "\n",
       ".xr-attrs dt:hover span {\n",
       "  display: inline-block;\n",
       "  background: var(--xr-background-color);\n",
       "  padding-right: 10px;\n",
       "}\n",
       "\n",
       ".xr-attrs dd {\n",
       "  grid-column: 2;\n",
       "  white-space: pre-wrap;\n",
       "  word-break: break-all;\n",
       "}\n",
       "\n",
       ".xr-icon-database,\n",
       ".xr-icon-file-text2,\n",
       ".xr-no-icon {\n",
       "  display: inline-block;\n",
       "  vertical-align: middle;\n",
       "  width: 1em;\n",
       "  height: 1.5em !important;\n",
       "  stroke-width: 0;\n",
       "  stroke: currentColor;\n",
       "  fill: currentColor;\n",
       "}\n",
       "</style><pre class='xr-text-repr-fallback'>&lt;xarray.Dataset&gt; Size: 105kB\n",
       "Dimensions:                 (size: 6, repeats: 5, scales: 16, threshold: 100,\n",
       "                             threshold_heavy: 100)\n",
       "Coordinates:\n",
       "  * scales                  (scales) float64 128B inf 0.558 ... 0.03986 0.0372\n",
       "  * threshold               (threshold) float64 800B 0.0 0.0101 ... 0.9899 1.0\n",
       "  * threshold_heavy         (threshold_heavy) float64 800B 0.0 0.0101 ... 1.0\n",
       "  * size                    (size) float64 48B 9.37e+06 2.811e+07 ... 9.276e+07\n",
       "Dimensions without coordinates: repeats\n",
       "Data variables: (12/19)\n",
       "    bias                    (size, repeats) float64 240B -3.322 ... -4.629\n",
       "    mae                     (size, repeats) float64 240B 0.1292 ... 0.1228\n",
       "    mse                     (size, repeats) float64 240B 1.575 1.552 ... 1.518\n",
       "    smape                   (size, repeats) float64 240B 97.38 97.33 ... 91.84\n",
       "    correlation_coef        (size, repeats) float64 240B 0.5983 ... 0.6156\n",
       "    spectral_coherence      (size, repeats, scales) float64 4kB 0.9301 ... 0....\n",
       "    ...                      ...\n",
       "    pod_heavy               (size, repeats) float64 240B nan nan nan ... nan nan\n",
       "    far_heavy               (size, repeats) float64 240B nan nan nan ... nan nan\n",
       "    hss_heavy               (size, repeats) float64 240B nan nan nan ... nan nan\n",
       "    precision_heavy         (size, repeats, threshold_heavy) float64 24kB nan...\n",
       "    recall_heavy            (size, repeats, threshold_heavy) float64 24kB nan...\n",
       "    area_under_curve_heavy  (size, repeats) float64 240B 0.0 0.0 0.0 ... 0.0 0.0</pre><div class='xr-wrap' style='display:none'><div class='xr-header'><div class='xr-obj-type'>xarray.Dataset</div></div><ul class='xr-sections'><li class='xr-section-item'><input id='section-1c3f4ecd-c10f-4a14-9068-bfd768f58744' class='xr-section-summary-in' type='checkbox' disabled ><label for='section-1c3f4ecd-c10f-4a14-9068-bfd768f58744' class='xr-section-summary'  title='Expand/collapse section'>Dimensions:</label><div class='xr-section-inline-details'><ul class='xr-dim-list'><li><span class='xr-has-index'>size</span>: 6</li><li><span>repeats</span>: 5</li><li><span class='xr-has-index'>scales</span>: 16</li><li><span class='xr-has-index'>threshold</span>: 100</li><li><span class='xr-has-index'>threshold_heavy</span>: 100</li></ul></div><div class='xr-section-details'></div></li><li class='xr-section-item'><input id='section-c81f48dd-9737-4ae0-90e5-23a7cd8cc2c7' class='xr-section-summary-in' type='checkbox'  checked><label for='section-c81f48dd-9737-4ae0-90e5-23a7cd8cc2c7' class='xr-section-summary' >Coordinates: <span>(4)</span></label><div class='xr-section-inline-details'></div><div class='xr-section-details'><ul class='xr-var-list'><li class='xr-var-item'><div class='xr-var-name'><span class='xr-has-index'>scales</span></div><div class='xr-var-dims'>(scales)</div><div class='xr-var-dtype'>float64</div><div class='xr-var-preview xr-preview'>inf 0.558 0.279 ... 0.03986 0.0372</div><input id='attrs-bfd4c8bc-fbf7-45c8-9fbc-a62f8d7ba617' class='xr-var-attrs-in' type='checkbox' disabled><label for='attrs-bfd4c8bc-fbf7-45c8-9fbc-a62f8d7ba617' title='Show/Hide attributes'><svg class='icon xr-icon-file-text2'><use xlink:href='#icon-file-text2'></use></svg></label><input id='data-d4a8d696-0cdd-4d24-9540-49b3dca75136' class='xr-var-data-in' type='checkbox'><label for='data-d4a8d696-0cdd-4d24-9540-49b3dca75136' title='Show/Hide data repr'><svg class='icon xr-icon-database'><use xlink:href='#icon-database'></use></svg></label><div class='xr-var-attrs'><dl class='xr-attrs'></dl></div><div class='xr-var-data'><pre>array([     inf, 0.558   , 0.279   , 0.186   , 0.1395  , 0.1116  , 0.093   ,\n",
       "       0.079714, 0.06975 , 0.062   , 0.0558  , 0.050727, 0.0465  , 0.042923,\n",
       "       0.039857, 0.0372  ])</pre></div></li><li class='xr-var-item'><div class='xr-var-name'><span class='xr-has-index'>threshold</span></div><div class='xr-var-dims'>(threshold)</div><div class='xr-var-dtype'>float64</div><div class='xr-var-preview xr-preview'>0.0 0.0101 0.0202 ... 0.9899 1.0</div><input id='attrs-a50b8ab0-0c6e-4f8d-9450-fb8b3d0fd462' class='xr-var-attrs-in' type='checkbox' disabled><label for='attrs-a50b8ab0-0c6e-4f8d-9450-fb8b3d0fd462' title='Show/Hide attributes'><svg class='icon xr-icon-file-text2'><use xlink:href='#icon-file-text2'></use></svg></label><input id='data-dbc305b0-81d0-49e4-b096-aa0f8dfb4462' class='xr-var-data-in' type='checkbox'><label for='data-dbc305b0-81d0-49e4-b096-aa0f8dfb4462' title='Show/Hide data repr'><svg class='icon xr-icon-database'><use xlink:href='#icon-database'></use></svg></label><div class='xr-var-attrs'><dl class='xr-attrs'></dl></div><div class='xr-var-data'><pre>array([0.      , 0.010101, 0.020202, 0.030303, 0.040404, 0.050505, 0.060606,\n",
       "       0.070707, 0.080808, 0.090909, 0.10101 , 0.111111, 0.121212, 0.131313,\n",
       "       0.141414, 0.151515, 0.161616, 0.171717, 0.181818, 0.191919, 0.20202 ,\n",
       "       0.212121, 0.222222, 0.232323, 0.242424, 0.252525, 0.262626, 0.272727,\n",
       "       0.282828, 0.292929, 0.30303 , 0.313131, 0.323232, 0.333333, 0.343434,\n",
       "       0.353535, 0.363636, 0.373737, 0.383838, 0.393939, 0.40404 , 0.414141,\n",
       "       0.424242, 0.434343, 0.444444, 0.454545, 0.464646, 0.474747, 0.484848,\n",
       "       0.494949, 0.505051, 0.515152, 0.525253, 0.535354, 0.545455, 0.555556,\n",
       "       0.565657, 0.575758, 0.585859, 0.59596 , 0.606061, 0.616162, 0.626263,\n",
       "       0.636364, 0.646465, 0.656566, 0.666667, 0.676768, 0.686869, 0.69697 ,\n",
       "       0.707071, 0.717172, 0.727273, 0.737374, 0.747475, 0.757576, 0.767677,\n",
       "       0.777778, 0.787879, 0.79798 , 0.808081, 0.818182, 0.828283, 0.838384,\n",
       "       0.848485, 0.858586, 0.868687, 0.878788, 0.888889, 0.89899 , 0.909091,\n",
       "       0.919192, 0.929293, 0.939394, 0.949495, 0.959596, 0.969697, 0.979798,\n",
       "       0.989899, 1.      ])</pre></div></li><li class='xr-var-item'><div class='xr-var-name'><span class='xr-has-index'>threshold_heavy</span></div><div class='xr-var-dims'>(threshold_heavy)</div><div class='xr-var-dtype'>float64</div><div class='xr-var-preview xr-preview'>0.0 0.0101 0.0202 ... 0.9899 1.0</div><input id='attrs-dfdddd3e-982b-49ca-a7d0-88aefce4a89c' class='xr-var-attrs-in' type='checkbox' disabled><label for='attrs-dfdddd3e-982b-49ca-a7d0-88aefce4a89c' title='Show/Hide attributes'><svg class='icon xr-icon-file-text2'><use xlink:href='#icon-file-text2'></use></svg></label><input id='data-23883d53-eefc-4fc1-b2fe-658d422eabaf' class='xr-var-data-in' type='checkbox'><label for='data-23883d53-eefc-4fc1-b2fe-658d422eabaf' title='Show/Hide data repr'><svg class='icon xr-icon-database'><use xlink:href='#icon-database'></use></svg></label><div class='xr-var-attrs'><dl class='xr-attrs'></dl></div><div class='xr-var-data'><pre>array([0.      , 0.010101, 0.020202, 0.030303, 0.040404, 0.050505, 0.060606,\n",
       "       0.070707, 0.080808, 0.090909, 0.10101 , 0.111111, 0.121212, 0.131313,\n",
       "       0.141414, 0.151515, 0.161616, 0.171717, 0.181818, 0.191919, 0.20202 ,\n",
       "       0.212121, 0.222222, 0.232323, 0.242424, 0.252525, 0.262626, 0.272727,\n",
       "       0.282828, 0.292929, 0.30303 , 0.313131, 0.323232, 0.333333, 0.343434,\n",
       "       0.353535, 0.363636, 0.373737, 0.383838, 0.393939, 0.40404 , 0.414141,\n",
       "       0.424242, 0.434343, 0.444444, 0.454545, 0.464646, 0.474747, 0.484848,\n",
       "       0.494949, 0.505051, 0.515152, 0.525253, 0.535354, 0.545455, 0.555556,\n",
       "       0.565657, 0.575758, 0.585859, 0.59596 , 0.606061, 0.616162, 0.626263,\n",
       "       0.636364, 0.646465, 0.656566, 0.666667, 0.676768, 0.686869, 0.69697 ,\n",
       "       0.707071, 0.717172, 0.727273, 0.737374, 0.747475, 0.757576, 0.767677,\n",
       "       0.777778, 0.787879, 0.79798 , 0.808081, 0.818182, 0.828283, 0.838384,\n",
       "       0.848485, 0.858586, 0.868687, 0.878788, 0.888889, 0.89899 , 0.909091,\n",
       "       0.919192, 0.929293, 0.939394, 0.949495, 0.959596, 0.969697, 0.979798,\n",
       "       0.989899, 1.      ])</pre></div></li><li class='xr-var-item'><div class='xr-var-name'><span class='xr-has-index'>size</span></div><div class='xr-var-dims'>(size)</div><div class='xr-var-dtype'>float64</div><div class='xr-var-preview xr-preview'>9.37e+06 2.811e+07 ... 9.276e+07</div><input id='attrs-baf290f1-1584-47ae-b317-304b892e669a' class='xr-var-attrs-in' type='checkbox' disabled><label for='attrs-baf290f1-1584-47ae-b317-304b892e669a' title='Show/Hide attributes'><svg class='icon xr-icon-file-text2'><use xlink:href='#icon-file-text2'></use></svg></label><input id='data-14a7365b-ec94-4d4f-9960-44063c3f13b0' class='xr-var-data-in' type='checkbox'><label for='data-14a7365b-ec94-4d4f-9960-44063c3f13b0' title='Show/Hide data repr'><svg class='icon xr-icon-database'><use xlink:href='#icon-database'></use></svg></label><div class='xr-var-attrs'><dl class='xr-attrs'></dl></div><div class='xr-var-data'><pre>array([ 9369933.2 , 28109799.6 , 46849666.  , 65589532.4 , 84329398.8 ,\n",
       "       92762338.68])</pre></div></li></ul></div></li><li class='xr-section-item'><input id='section-b6d0992a-b52c-4df8-938c-5567d97d1c64' class='xr-section-summary-in' type='checkbox'  ><label for='section-b6d0992a-b52c-4df8-938c-5567d97d1c64' class='xr-section-summary' >Data variables: <span>(19)</span></label><div class='xr-section-inline-details'></div><div class='xr-section-details'><ul class='xr-var-list'><li class='xr-var-item'><div class='xr-var-name'><span>bias</span></div><div class='xr-var-dims'>(size, repeats)</div><div class='xr-var-dtype'>float64</div><div class='xr-var-preview xr-preview'>-3.322 -2.216 ... -4.676 -4.629</div><input id='attrs-d3bf472c-ae23-400b-9952-2a1d16de8e5f' class='xr-var-attrs-in' type='checkbox' ><label for='attrs-d3bf472c-ae23-400b-9952-2a1d16de8e5f' title='Show/Hide attributes'><svg class='icon xr-icon-file-text2'><use xlink:href='#icon-file-text2'></use></svg></label><input id='data-223efda9-3a6b-4399-b06d-092a392926fe' class='xr-var-data-in' type='checkbox'><label for='data-223efda9-3a6b-4399-b06d-092a392926fe' title='Show/Hide data repr'><svg class='icon xr-icon-database'><use xlink:href='#icon-database'></use></svg></label><div class='xr-var-attrs'><dl class='xr-attrs'><dt><span>full_name :</span></dt><dd>Bias</dd><dt><span>unit :</span></dt><dd>\\%</dd></dl></div><div class='xr-var-data'><pre>array([[-3.32194065, -2.21578451, -3.3044226 , -2.96993854, -4.25981167],\n",
       "       [-4.34519173, -3.93546925, -3.64663481, -4.16603347, -4.24305961],\n",
       "       [-4.73472634, -3.83864265, -4.32020901, -4.54604744, -5.35823329],\n",
       "       [-4.31528842, -4.70352124, -4.57917009, -5.07391639, -4.97966715],\n",
       "       [-4.28321499, -4.43212083, -4.56248296, -4.58084237, -4.12567799],\n",
       "       [-4.36140469, -4.63158753, -4.47563918, -4.67563376, -4.62911071]])</pre></div></li><li class='xr-var-item'><div class='xr-var-name'><span>mae</span></div><div class='xr-var-dims'>(size, repeats)</div><div class='xr-var-dtype'>float64</div><div class='xr-var-preview xr-preview'>0.1292 0.1297 ... 0.1226 0.1228</div><input id='attrs-ddd7c07b-5b4d-44d5-8fab-380ef296afe7' class='xr-var-attrs-in' type='checkbox' ><label for='attrs-ddd7c07b-5b4d-44d5-8fab-380ef296afe7' title='Show/Hide attributes'><svg class='icon xr-icon-file-text2'><use xlink:href='#icon-file-text2'></use></svg></label><input id='data-c6bec30f-f925-4698-971d-6e3f239c0ec9' class='xr-var-data-in' type='checkbox'><label for='data-c6bec30f-f925-4698-971d-6e3f239c0ec9' title='Show/Hide data repr'><svg class='icon xr-icon-database'><use xlink:href='#icon-database'></use></svg></label><div class='xr-var-attrs'><dl class='xr-attrs'><dt><span>full_name :</span></dt><dd>MAE</dd><dt><span>unit :</span></dt><dd>mm h^{-1}</dd></dl></div><div class='xr-var-data'><pre>array([[0.12921896, 0.12968937, 0.12940587, 0.12942036, 0.12906688],\n",
       "       [0.12568385, 0.12608216, 0.12609982, 0.12542335, 0.12615897],\n",
       "       [0.12463061, 0.12479236, 0.12445573, 0.12459355, 0.12390339],\n",
       "       [0.12369403, 0.1233982 , 0.12327914, 0.12371225, 0.12308549],\n",
       "       [0.1231155 , 0.12273881, 0.12294217, 0.12263805, 0.12297117],\n",
       "       [0.12223519, 0.12263674, 0.1225254 , 0.12264812, 0.12278079]])</pre></div></li><li class='xr-var-item'><div class='xr-var-name'><span>mse</span></div><div class='xr-var-dims'>(size, repeats)</div><div class='xr-var-dtype'>float64</div><div class='xr-var-preview xr-preview'>1.575 1.552 1.584 ... 1.512 1.518</div><input id='attrs-6866f7be-0158-4781-9d13-e5567affb3c3' class='xr-var-attrs-in' type='checkbox' ><label for='attrs-6866f7be-0158-4781-9d13-e5567affb3c3' title='Show/Hide attributes'><svg class='icon xr-icon-file-text2'><use xlink:href='#icon-file-text2'></use></svg></label><input id='data-f06b47ef-dae4-423f-9c3c-f3aa959ea4e0' class='xr-var-data-in' type='checkbox'><label for='data-f06b47ef-dae4-423f-9c3c-f3aa959ea4e0' title='Show/Hide data repr'><svg class='icon xr-icon-database'><use xlink:href='#icon-database'></use></svg></label><div class='xr-var-attrs'><dl class='xr-attrs'><dt><span>full_name :</span></dt><dd>MSE</dd><dt><span>unit :</span></dt><dd>(mm h^{-1})^2</dd></dl></div><div class='xr-var-data'><pre>array([[1.57452645, 1.55209446, 1.58438255, 1.58003669, 1.55356115],\n",
       "       [1.53665897, 1.55075425, 1.54619772, 1.53628325, 1.54485113],\n",
       "       [1.5353322 , 1.53939914, 1.53131614, 1.53867447, 1.53018301],\n",
       "       [1.53471634, 1.51557688, 1.52379459, 1.52712971, 1.51429393],\n",
       "       [1.52654203, 1.51205001, 1.51345382, 1.50719612, 1.51202044],\n",
       "       [1.49886452, 1.50576948, 1.5073933 , 1.51175864, 1.51781468]])</pre></div></li><li class='xr-var-item'><div class='xr-var-name'><span>smape</span></div><div class='xr-var-dims'>(size, repeats)</div><div class='xr-var-dtype'>float64</div><div class='xr-var-preview xr-preview'>97.38 97.33 97.6 ... 91.82 91.84</div><input id='attrs-c4e5b4d6-3651-49fd-95de-2bbb386ba9db' class='xr-var-attrs-in' type='checkbox' ><label for='attrs-c4e5b4d6-3651-49fd-95de-2bbb386ba9db' title='Show/Hide attributes'><svg class='icon xr-icon-file-text2'><use xlink:href='#icon-file-text2'></use></svg></label><input id='data-db11083d-c435-4d24-891e-0b984d48992b' class='xr-var-data-in' type='checkbox'><label for='data-db11083d-c435-4d24-891e-0b984d48992b' title='Show/Hide data repr'><svg class='icon xr-icon-database'><use xlink:href='#icon-database'></use></svg></label><div class='xr-var-attrs'><dl class='xr-attrs'><dt><span>full_name :</span></dt><dd>SMAPE$_{0.1}$</dd><dt><span>unit :</span></dt><dd>\\%</dd></dl></div><div class='xr-var-data'><pre>array([[97.37729981, 97.33118925, 97.60414354, 97.67359476, 97.48357766],\n",
       "       [94.52243396, 95.03128985, 94.83900559, 94.68395155, 94.81181688],\n",
       "       [93.45515754, 93.4149048 , 93.14395739, 93.34377402, 93.36554086],\n",
       "       [92.450916  , 92.54536367, 92.57228662, 92.47727787, 92.55226433],\n",
       "       [91.94108669, 91.9995067 , 92.01701558, 92.01855042, 91.95211399],\n",
       "       [91.78994337, 91.79367875, 91.66551641, 91.8237806 , 91.84425996]])</pre></div></li><li class='xr-var-item'><div class='xr-var-name'><span>correlation_coef</span></div><div class='xr-var-dims'>(size, repeats)</div><div class='xr-var-dtype'>float64</div><div class='xr-var-preview xr-preview'>0.5983 0.6062 ... 0.6173 0.6156</div><input id='attrs-059c4f9c-18a0-4330-945a-f3c76bf5fd1a' class='xr-var-attrs-in' type='checkbox' ><label for='attrs-059c4f9c-18a0-4330-945a-f3c76bf5fd1a' title='Show/Hide attributes'><svg class='icon xr-icon-file-text2'><use xlink:href='#icon-file-text2'></use></svg></label><input id='data-f7cff671-84f5-4af4-9d2b-4d2cb7adf35c' class='xr-var-data-in' type='checkbox'><label for='data-f7cff671-84f5-4af4-9d2b-4d2cb7adf35c' title='Show/Hide data repr'><svg class='icon xr-icon-database'><use xlink:href='#icon-database'></use></svg></label><div class='xr-var-attrs'><dl class='xr-attrs'><dt><span>full_name :</span></dt><dd>Correlation coeff.</dd><dt><span>unit :</span></dt><dd></dd></dl></div><div class='xr-var-data'><pre>array([[0.5983085 , 0.60624728, 0.59489601, 0.59740179, 0.60313968],\n",
       "       [0.60939131, 0.60630268, 0.60784666, 0.61030015, 0.60710932],\n",
       "       [0.61015213, 0.60975756, 0.61127718, 0.60892465, 0.61129716],\n",
       "       [0.61074232, 0.6160728 , 0.61400979, 0.6126147 , 0.61617199],\n",
       "       [0.6134663 , 0.6176432 , 0.61698439, 0.61877007, 0.61769641],\n",
       "       [0.62159715, 0.61903206, 0.61878975, 0.6173295 , 0.615563  ]])</pre></div></li><li class='xr-var-item'><div class='xr-var-name'><span>spectral_coherence</span></div><div class='xr-var-dims'>(size, repeats, scales)</div><div class='xr-var-dtype'>float64</div><div class='xr-var-preview xr-preview'>0.9301 0.8511 ... 0.2362 0.2362</div><input id='attrs-be0673ba-9653-41a5-9e3f-c9bce78ad387' class='xr-var-attrs-in' type='checkbox' ><label for='attrs-be0673ba-9653-41a5-9e3f-c9bce78ad387' title='Show/Hide attributes'><svg class='icon xr-icon-file-text2'><use xlink:href='#icon-file-text2'></use></svg></label><input id='data-01d17da7-6e5e-42b0-ac85-eac4522df116' class='xr-var-data-in' type='checkbox'><label for='data-01d17da7-6e5e-42b0-ac85-eac4522df116' title='Show/Hide data repr'><svg class='icon xr-icon-database'><use xlink:href='#icon-database'></use></svg></label><div class='xr-var-attrs'><dl class='xr-attrs'><dt><span>full_name :</span></dt><dd>Spectral coherence</dd><dt><span>unit :</span></dt><dd></dd></dl></div><div class='xr-var-data'><pre>array([[[0.93011059, 0.85112412, 0.73386182, 0.66252777, 0.58890369,\n",
       "         0.4610867 , 0.31026982, 0.2184264 , 0.1837465 , 0.15902695,\n",
       "         0.18980455, 0.17814024, 0.16922812, 0.17350797, 0.21960477,\n",
       "         0.17514594],\n",
       "        [0.93042209, 0.79948258, 0.74049239, 0.66807727, 0.46881366,\n",
       "         0.30583327, 0.26073571, 0.23555628, 0.22238969, 0.1985868 ,\n",
       "         0.20652496, 0.21784767, 0.23035466, 0.21504837, 0.2051408 ,\n",
       "         0.2222459 ],\n",
       "        [0.93928167, 0.85174849, 0.8022518 , 0.64027734, 0.51668208,\n",
       "         0.42939176, 0.31846959, 0.22921031, 0.22553833, 0.17730158,\n",
       "         0.17440468, 0.19535029, 0.21983226, 0.24012121, 0.21189359,\n",
       "         0.24080141],\n",
       "        [0.92231412, 0.75432939, 0.7494773 , 0.66690724, 0.45934463,\n",
       "         0.35698516, 0.25227072, 0.17380129, 0.18035623, 0.13858014,\n",
       "         0.1791704 , 0.18569794, 0.17129207, 0.18982996, 0.17133505,\n",
       "         0.20888788],\n",
       "        [0.93582556, 0.81307761, 0.70217119, 0.66592096, 0.48163539,\n",
       "         0.29959673, 0.26205261, 0.21620591, 0.20968511, 0.17905071,\n",
       "         0.1926728 , 0.18962671, 0.19457377, 0.202347  , 0.1905088 ,\n",
       "         0.22509285]],\n",
       "...\n",
       "       [[0.92383939, 0.84786117, 0.77827487, 0.72102925, 0.53462753,\n",
       "         0.42924801, 0.36181466, 0.2429899 , 0.19328677, 0.20096039,\n",
       "         0.18940978, 0.19371558, 0.21669633, 0.18087468, 0.19325241,\n",
       "         0.206749  ],\n",
       "        [0.95596358, 0.84444867, 0.77180426, 0.62356703, 0.47319592,\n",
       "         0.4116861 , 0.28334073, 0.25818734, 0.1601298 , 0.16656244,\n",
       "         0.16590988, 0.20163052, 0.19162558, 0.208186  , 0.25584794,\n",
       "         0.24724036],\n",
       "        [0.96703682, 0.82871268, 0.73592011, 0.60120571, 0.60499522,\n",
       "         0.46275573, 0.31853768, 0.27567083, 0.2652774 , 0.22715965,\n",
       "         0.21810028, 0.20873989, 0.21000356, 0.19383886, 0.2332779 ,\n",
       "         0.21692916],\n",
       "        [0.95435515, 0.8078125 , 0.67915539, 0.64508486, 0.57372891,\n",
       "         0.42388588, 0.37932137, 0.30833508, 0.25937544, 0.24245979,\n",
       "         0.20952632, 0.22513419, 0.26289916, 0.28212681, 0.26026647,\n",
       "         0.31214212],\n",
       "        [0.95058909, 0.80681561, 0.75347103, 0.68074728, 0.54014018,\n",
       "         0.44283303, 0.3732352 , 0.31038169, 0.25520585, 0.23103147,\n",
       "         0.16934285, 0.20598591, 0.20325972, 0.20244096, 0.23617758,\n",
       "         0.23620975]]])</pre></div></li><li class='xr-var-item'><div class='xr-var-name'><span>effective_resolution</span></div><div class='xr-var-dims'>(size, repeats)</div><div class='xr-var-dtype'>float64</div><div class='xr-var-preview xr-preview'>0.279 0.279 0.279 ... 0.558 0.279</div><input id='attrs-08d97326-18b9-478f-a714-269949748265' class='xr-var-attrs-in' type='checkbox' ><label for='attrs-08d97326-18b9-478f-a714-269949748265' title='Show/Hide attributes'><svg class='icon xr-icon-file-text2'><use xlink:href='#icon-file-text2'></use></svg></label><input id='data-0034868c-2735-41cd-97a3-49474a7f4eaa' class='xr-var-data-in' type='checkbox'><label for='data-0034868c-2735-41cd-97a3-49474a7f4eaa' title='Show/Hide data repr'><svg class='icon xr-icon-database'><use xlink:href='#icon-database'></use></svg></label><div class='xr-var-attrs'><dl class='xr-attrs'><dt><span>full_name :</span></dt><dd>Effective resolution</dd><dt><span>unit :</span></dt><dd>^\\circ</dd></dl></div><div class='xr-var-data'><pre>array([[0.279, 0.279, 0.279, 0.279, 0.558],\n",
       "       [0.279, 0.558, 0.279, 0.279, 0.279],\n",
       "       [0.186, 0.558, 0.279, 0.279, 0.279],\n",
       "       [0.279, 0.279, 0.186, 0.279, 0.186],\n",
       "       [0.279, 0.279, 0.186, 0.279, 0.186],\n",
       "       [0.186, 0.279, 0.279, 0.558, 0.279]])</pre></div></li><li class='xr-var-item'><div class='xr-var-name'><span>pod</span></div><div class='xr-var-dims'>(size, repeats)</div><div class='xr-var-dtype'>float64</div><div class='xr-var-preview xr-preview'>nan nan nan nan ... nan nan nan nan</div><input id='attrs-bd8a2ccc-d4a8-46b1-bfeb-d760deb474af' class='xr-var-attrs-in' type='checkbox' ><label for='attrs-bd8a2ccc-d4a8-46b1-bfeb-d760deb474af' title='Show/Hide attributes'><svg class='icon xr-icon-file-text2'><use xlink:href='#icon-file-text2'></use></svg></label><input id='data-daecd1e6-80c9-4566-a330-26d604b8cae0' class='xr-var-data-in' type='checkbox'><label for='data-daecd1e6-80c9-4566-a330-26d604b8cae0' title='Show/Hide data repr'><svg class='icon xr-icon-database'><use xlink:href='#icon-database'></use></svg></label><div class='xr-var-attrs'><dl class='xr-attrs'><dt><span>full_name :</span></dt><dd>POD</dd><dt><span>unit :</span></dt><dd></dd></dl></div><div class='xr-var-data'><pre>array([[nan, nan, nan, nan, nan],\n",
       "       [nan, nan, nan, nan, nan],\n",
       "       [nan, nan, nan, nan, nan],\n",
       "       [nan, nan, nan, nan, nan],\n",
       "       [nan, nan, nan, nan, nan],\n",
       "       [nan, nan, nan, nan, nan]])</pre></div></li><li class='xr-var-item'><div class='xr-var-name'><span>far</span></div><div class='xr-var-dims'>(size, repeats)</div><div class='xr-var-dtype'>float64</div><div class='xr-var-preview xr-preview'>nan nan nan nan ... nan nan nan nan</div><input id='attrs-ae6e6cdd-ca04-4474-81ad-5159c61d73ae' class='xr-var-attrs-in' type='checkbox' ><label for='attrs-ae6e6cdd-ca04-4474-81ad-5159c61d73ae' title='Show/Hide attributes'><svg class='icon xr-icon-file-text2'><use xlink:href='#icon-file-text2'></use></svg></label><input id='data-2a0afa9d-b19d-4302-82a0-c77e8352007d' class='xr-var-data-in' type='checkbox'><label for='data-2a0afa9d-b19d-4302-82a0-c77e8352007d' title='Show/Hide data repr'><svg class='icon xr-icon-database'><use xlink:href='#icon-database'></use></svg></label><div class='xr-var-attrs'><dl class='xr-attrs'><dt><span>full_name :</span></dt><dd>FAR</dd><dt><span>unit :</span></dt><dd></dd></dl></div><div class='xr-var-data'><pre>array([[nan, nan, nan, nan, nan],\n",
       "       [nan, nan, nan, nan, nan],\n",
       "       [nan, nan, nan, nan, nan],\n",
       "       [nan, nan, nan, nan, nan],\n",
       "       [nan, nan, nan, nan, nan],\n",
       "       [nan, nan, nan, nan, nan]])</pre></div></li><li class='xr-var-item'><div class='xr-var-name'><span>hss</span></div><div class='xr-var-dims'>(size, repeats)</div><div class='xr-var-dtype'>float64</div><div class='xr-var-preview xr-preview'>nan nan nan nan ... nan nan nan nan</div><input id='attrs-be0a11bb-85cd-424a-bc7c-4cdd376020f7' class='xr-var-attrs-in' type='checkbox' ><label for='attrs-be0a11bb-85cd-424a-bc7c-4cdd376020f7' title='Show/Hide attributes'><svg class='icon xr-icon-file-text2'><use xlink:href='#icon-file-text2'></use></svg></label><input id='data-124f0d06-c205-4d62-9ab9-e9bfe60c5280' class='xr-var-data-in' type='checkbox'><label for='data-124f0d06-c205-4d62-9ab9-e9bfe60c5280' title='Show/Hide data repr'><svg class='icon xr-icon-database'><use xlink:href='#icon-database'></use></svg></label><div class='xr-var-attrs'><dl class='xr-attrs'><dt><span>full_name :</span></dt><dd>HSS</dd><dt><span>unit :</span></dt><dd></dd></dl></div><div class='xr-var-data'><pre>array([[nan, nan, nan, nan, nan],\n",
       "       [nan, nan, nan, nan, nan],\n",
       "       [nan, nan, nan, nan, nan],\n",
       "       [nan, nan, nan, nan, nan],\n",
       "       [nan, nan, nan, nan, nan],\n",
       "       [nan, nan, nan, nan, nan]])</pre></div></li><li class='xr-var-item'><div class='xr-var-name'><span>precision</span></div><div class='xr-var-dims'>(size, repeats, threshold)</div><div class='xr-var-dtype'>float64</div><div class='xr-var-preview xr-preview'>nan nan nan nan ... nan nan nan nan</div><input id='attrs-72ce95c7-7c15-4edb-a43a-103915571dd2' class='xr-var-attrs-in' type='checkbox' ><label for='attrs-72ce95c7-7c15-4edb-a43a-103915571dd2' title='Show/Hide attributes'><svg class='icon xr-icon-file-text2'><use xlink:href='#icon-file-text2'></use></svg></label><input id='data-045ede12-29fb-4de0-acfd-0fbdc43b0c7b' class='xr-var-data-in' type='checkbox'><label for='data-045ede12-29fb-4de0-acfd-0fbdc43b0c7b' title='Show/Hide data repr'><svg class='icon xr-icon-database'><use xlink:href='#icon-database'></use></svg></label><div class='xr-var-attrs'><dl class='xr-attrs'><dt><span>full_name :</span></dt><dd>Precision</dd><dt><span>unit_name :</span></dt><dd></dd></dl></div><div class='xr-var-data'><pre>array([[[nan, nan, nan, ..., nan, nan, nan],\n",
       "        [nan, nan, nan, ..., nan, nan, nan],\n",
       "        [nan, nan, nan, ..., nan, nan, nan],\n",
       "        [nan, nan, nan, ..., nan, nan, nan],\n",
       "        [nan, nan, nan, ..., nan, nan, nan]],\n",
       "\n",
       "       [[nan, nan, nan, ..., nan, nan, nan],\n",
       "        [nan, nan, nan, ..., nan, nan, nan],\n",
       "        [nan, nan, nan, ..., nan, nan, nan],\n",
       "        [nan, nan, nan, ..., nan, nan, nan],\n",
       "        [nan, nan, nan, ..., nan, nan, nan]],\n",
       "\n",
       "       [[nan, nan, nan, ..., nan, nan, nan],\n",
       "        [nan, nan, nan, ..., nan, nan, nan],\n",
       "        [nan, nan, nan, ..., nan, nan, nan],\n",
       "        [nan, nan, nan, ..., nan, nan, nan],\n",
       "        [nan, nan, nan, ..., nan, nan, nan]],\n",
       "\n",
       "       [[nan, nan, nan, ..., nan, nan, nan],\n",
       "        [nan, nan, nan, ..., nan, nan, nan],\n",
       "        [nan, nan, nan, ..., nan, nan, nan],\n",
       "        [nan, nan, nan, ..., nan, nan, nan],\n",
       "        [nan, nan, nan, ..., nan, nan, nan]],\n",
       "\n",
       "       [[nan, nan, nan, ..., nan, nan, nan],\n",
       "        [nan, nan, nan, ..., nan, nan, nan],\n",
       "        [nan, nan, nan, ..., nan, nan, nan],\n",
       "        [nan, nan, nan, ..., nan, nan, nan],\n",
       "        [nan, nan, nan, ..., nan, nan, nan]],\n",
       "\n",
       "       [[nan, nan, nan, ..., nan, nan, nan],\n",
       "        [nan, nan, nan, ..., nan, nan, nan],\n",
       "        [nan, nan, nan, ..., nan, nan, nan],\n",
       "        [nan, nan, nan, ..., nan, nan, nan],\n",
       "        [nan, nan, nan, ..., nan, nan, nan]]])</pre></div></li><li class='xr-var-item'><div class='xr-var-name'><span>recall</span></div><div class='xr-var-dims'>(size, repeats, threshold)</div><div class='xr-var-dtype'>float64</div><div class='xr-var-preview xr-preview'>nan nan nan nan ... nan nan nan nan</div><input id='attrs-f765e455-2111-4741-9c7f-25df5cd15c4b' class='xr-var-attrs-in' type='checkbox' ><label for='attrs-f765e455-2111-4741-9c7f-25df5cd15c4b' title='Show/Hide attributes'><svg class='icon xr-icon-file-text2'><use xlink:href='#icon-file-text2'></use></svg></label><input id='data-dbbcf1b0-e16d-4b61-a48a-b9e5d35a9aa3' class='xr-var-data-in' type='checkbox'><label for='data-dbbcf1b0-e16d-4b61-a48a-b9e5d35a9aa3' title='Show/Hide data repr'><svg class='icon xr-icon-database'><use xlink:href='#icon-database'></use></svg></label><div class='xr-var-attrs'><dl class='xr-attrs'><dt><span>full_name :</span></dt><dd>Recall</dd><dt><span>unit_name :</span></dt><dd></dd></dl></div><div class='xr-var-data'><pre>array([[[nan, nan, nan, ..., nan, nan, nan],\n",
       "        [nan, nan, nan, ..., nan, nan, nan],\n",
       "        [nan, nan, nan, ..., nan, nan, nan],\n",
       "        [nan, nan, nan, ..., nan, nan, nan],\n",
       "        [nan, nan, nan, ..., nan, nan, nan]],\n",
       "\n",
       "       [[nan, nan, nan, ..., nan, nan, nan],\n",
       "        [nan, nan, nan, ..., nan, nan, nan],\n",
       "        [nan, nan, nan, ..., nan, nan, nan],\n",
       "        [nan, nan, nan, ..., nan, nan, nan],\n",
       "        [nan, nan, nan, ..., nan, nan, nan]],\n",
       "\n",
       "       [[nan, nan, nan, ..., nan, nan, nan],\n",
       "        [nan, nan, nan, ..., nan, nan, nan],\n",
       "        [nan, nan, nan, ..., nan, nan, nan],\n",
       "        [nan, nan, nan, ..., nan, nan, nan],\n",
       "        [nan, nan, nan, ..., nan, nan, nan]],\n",
       "\n",
       "       [[nan, nan, nan, ..., nan, nan, nan],\n",
       "        [nan, nan, nan, ..., nan, nan, nan],\n",
       "        [nan, nan, nan, ..., nan, nan, nan],\n",
       "        [nan, nan, nan, ..., nan, nan, nan],\n",
       "        [nan, nan, nan, ..., nan, nan, nan]],\n",
       "\n",
       "       [[nan, nan, nan, ..., nan, nan, nan],\n",
       "        [nan, nan, nan, ..., nan, nan, nan],\n",
       "        [nan, nan, nan, ..., nan, nan, nan],\n",
       "        [nan, nan, nan, ..., nan, nan, nan],\n",
       "        [nan, nan, nan, ..., nan, nan, nan]],\n",
       "\n",
       "       [[nan, nan, nan, ..., nan, nan, nan],\n",
       "        [nan, nan, nan, ..., nan, nan, nan],\n",
       "        [nan, nan, nan, ..., nan, nan, nan],\n",
       "        [nan, nan, nan, ..., nan, nan, nan],\n",
       "        [nan, nan, nan, ..., nan, nan, nan]]])</pre></div></li><li class='xr-var-item'><div class='xr-var-name'><span>area_under_curve</span></div><div class='xr-var-dims'>(size, repeats)</div><div class='xr-var-dtype'>float64</div><div class='xr-var-preview xr-preview'>0.0 0.0 0.0 0.0 ... 0.0 0.0 0.0 0.0</div><input id='attrs-c3bd84c6-86e3-465b-a247-683fc25f15b9' class='xr-var-attrs-in' type='checkbox' ><label for='attrs-c3bd84c6-86e3-465b-a247-683fc25f15b9' title='Show/Hide attributes'><svg class='icon xr-icon-file-text2'><use xlink:href='#icon-file-text2'></use></svg></label><input id='data-92730d87-0faa-4323-a9e0-90c8ba0e471c' class='xr-var-data-in' type='checkbox'><label for='data-92730d87-0faa-4323-a9e0-90c8ba0e471c' title='Show/Hide data repr'><svg class='icon xr-icon-database'><use xlink:href='#icon-database'></use></svg></label><div class='xr-var-attrs'><dl class='xr-attrs'><dt><span>full_name :</span></dt><dd>AUC</dd><dt><span>unit :</span></dt><dd></dd></dl></div><div class='xr-var-data'><pre>array([[0., 0., 0., 0., 0.],\n",
       "       [0., 0., 0., 0., 0.],\n",
       "       [0., 0., 0., 0., 0.],\n",
       "       [0., 0., 0., 0., 0.],\n",
       "       [0., 0., 0., 0., 0.],\n",
       "       [0., 0., 0., 0., 0.]])</pre></div></li><li class='xr-var-item'><div class='xr-var-name'><span>pod_heavy</span></div><div class='xr-var-dims'>(size, repeats)</div><div class='xr-var-dtype'>float64</div><div class='xr-var-preview xr-preview'>nan nan nan nan ... nan nan nan nan</div><input id='attrs-d045957d-4bd2-4ac2-94d0-38eac5d10c07' class='xr-var-attrs-in' type='checkbox' ><label for='attrs-d045957d-4bd2-4ac2-94d0-38eac5d10c07' title='Show/Hide attributes'><svg class='icon xr-icon-file-text2'><use xlink:href='#icon-file-text2'></use></svg></label><input id='data-07af8688-ebc9-48da-9183-0553d8551fb1' class='xr-var-data-in' type='checkbox'><label for='data-07af8688-ebc9-48da-9183-0553d8551fb1' title='Show/Hide data repr'><svg class='icon xr-icon-database'><use xlink:href='#icon-database'></use></svg></label><div class='xr-var-attrs'><dl class='xr-attrs'><dt><span>full_name :</span></dt><dd>POD</dd><dt><span>unit :</span></dt><dd></dd></dl></div><div class='xr-var-data'><pre>array([[nan, nan, nan, nan, nan],\n",
       "       [nan, nan, nan, nan, nan],\n",
       "       [nan, nan, nan, nan, nan],\n",
       "       [nan, nan, nan, nan, nan],\n",
       "       [nan, nan, nan, nan, nan],\n",
       "       [nan, nan, nan, nan, nan]])</pre></div></li><li class='xr-var-item'><div class='xr-var-name'><span>far_heavy</span></div><div class='xr-var-dims'>(size, repeats)</div><div class='xr-var-dtype'>float64</div><div class='xr-var-preview xr-preview'>nan nan nan nan ... nan nan nan nan</div><input id='attrs-6ea7b485-edcb-41b4-a6f1-c339bb217241' class='xr-var-attrs-in' type='checkbox' ><label for='attrs-6ea7b485-edcb-41b4-a6f1-c339bb217241' title='Show/Hide attributes'><svg class='icon xr-icon-file-text2'><use xlink:href='#icon-file-text2'></use></svg></label><input id='data-8a46ae6e-7a32-40af-91f1-9f39eaa71b76' class='xr-var-data-in' type='checkbox'><label for='data-8a46ae6e-7a32-40af-91f1-9f39eaa71b76' title='Show/Hide data repr'><svg class='icon xr-icon-database'><use xlink:href='#icon-database'></use></svg></label><div class='xr-var-attrs'><dl class='xr-attrs'><dt><span>full_name :</span></dt><dd>FAR</dd><dt><span>unit :</span></dt><dd></dd></dl></div><div class='xr-var-data'><pre>array([[nan, nan, nan, nan, nan],\n",
       "       [nan, nan, nan, nan, nan],\n",
       "       [nan, nan, nan, nan, nan],\n",
       "       [nan, nan, nan, nan, nan],\n",
       "       [nan, nan, nan, nan, nan],\n",
       "       [nan, nan, nan, nan, nan]])</pre></div></li><li class='xr-var-item'><div class='xr-var-name'><span>hss_heavy</span></div><div class='xr-var-dims'>(size, repeats)</div><div class='xr-var-dtype'>float64</div><div class='xr-var-preview xr-preview'>nan nan nan nan ... nan nan nan nan</div><input id='attrs-2db9c7d2-3642-4c0d-9c70-56b946de31e9' class='xr-var-attrs-in' type='checkbox' ><label for='attrs-2db9c7d2-3642-4c0d-9c70-56b946de31e9' title='Show/Hide attributes'><svg class='icon xr-icon-file-text2'><use xlink:href='#icon-file-text2'></use></svg></label><input id='data-08a3c663-9224-4aa8-b8a5-a48464c9e2ca' class='xr-var-data-in' type='checkbox'><label for='data-08a3c663-9224-4aa8-b8a5-a48464c9e2ca' title='Show/Hide data repr'><svg class='icon xr-icon-database'><use xlink:href='#icon-database'></use></svg></label><div class='xr-var-attrs'><dl class='xr-attrs'><dt><span>full_name :</span></dt><dd>HSS</dd><dt><span>unit :</span></dt><dd></dd></dl></div><div class='xr-var-data'><pre>array([[nan, nan, nan, nan, nan],\n",
       "       [nan, nan, nan, nan, nan],\n",
       "       [nan, nan, nan, nan, nan],\n",
       "       [nan, nan, nan, nan, nan],\n",
       "       [nan, nan, nan, nan, nan],\n",
       "       [nan, nan, nan, nan, nan]])</pre></div></li><li class='xr-var-item'><div class='xr-var-name'><span>precision_heavy</span></div><div class='xr-var-dims'>(size, repeats, threshold_heavy)</div><div class='xr-var-dtype'>float64</div><div class='xr-var-preview xr-preview'>nan nan nan nan ... nan nan nan nan</div><input id='attrs-97450fca-58b1-4425-8d6d-0bd8bb65345c' class='xr-var-attrs-in' type='checkbox' ><label for='attrs-97450fca-58b1-4425-8d6d-0bd8bb65345c' title='Show/Hide attributes'><svg class='icon xr-icon-file-text2'><use xlink:href='#icon-file-text2'></use></svg></label><input id='data-9a9cee49-bbe9-43e1-8671-d200aeec3f09' class='xr-var-data-in' type='checkbox'><label for='data-9a9cee49-bbe9-43e1-8671-d200aeec3f09' title='Show/Hide data repr'><svg class='icon xr-icon-database'><use xlink:href='#icon-database'></use></svg></label><div class='xr-var-attrs'><dl class='xr-attrs'><dt><span>full_name :</span></dt><dd>Precision</dd><dt><span>unit_name :</span></dt><dd></dd></dl></div><div class='xr-var-data'><pre>array([[[nan, nan, nan, ..., nan, nan, nan],\n",
       "        [nan, nan, nan, ..., nan, nan, nan],\n",
       "        [nan, nan, nan, ..., nan, nan, nan],\n",
       "        [nan, nan, nan, ..., nan, nan, nan],\n",
       "        [nan, nan, nan, ..., nan, nan, nan]],\n",
       "\n",
       "       [[nan, nan, nan, ..., nan, nan, nan],\n",
       "        [nan, nan, nan, ..., nan, nan, nan],\n",
       "        [nan, nan, nan, ..., nan, nan, nan],\n",
       "        [nan, nan, nan, ..., nan, nan, nan],\n",
       "        [nan, nan, nan, ..., nan, nan, nan]],\n",
       "\n",
       "       [[nan, nan, nan, ..., nan, nan, nan],\n",
       "        [nan, nan, nan, ..., nan, nan, nan],\n",
       "        [nan, nan, nan, ..., nan, nan, nan],\n",
       "        [nan, nan, nan, ..., nan, nan, nan],\n",
       "        [nan, nan, nan, ..., nan, nan, nan]],\n",
       "\n",
       "       [[nan, nan, nan, ..., nan, nan, nan],\n",
       "        [nan, nan, nan, ..., nan, nan, nan],\n",
       "        [nan, nan, nan, ..., nan, nan, nan],\n",
       "        [nan, nan, nan, ..., nan, nan, nan],\n",
       "        [nan, nan, nan, ..., nan, nan, nan]],\n",
       "\n",
       "       [[nan, nan, nan, ..., nan, nan, nan],\n",
       "        [nan, nan, nan, ..., nan, nan, nan],\n",
       "        [nan, nan, nan, ..., nan, nan, nan],\n",
       "        [nan, nan, nan, ..., nan, nan, nan],\n",
       "        [nan, nan, nan, ..., nan, nan, nan]],\n",
       "\n",
       "       [[nan, nan, nan, ..., nan, nan, nan],\n",
       "        [nan, nan, nan, ..., nan, nan, nan],\n",
       "        [nan, nan, nan, ..., nan, nan, nan],\n",
       "        [nan, nan, nan, ..., nan, nan, nan],\n",
       "        [nan, nan, nan, ..., nan, nan, nan]]])</pre></div></li><li class='xr-var-item'><div class='xr-var-name'><span>recall_heavy</span></div><div class='xr-var-dims'>(size, repeats, threshold_heavy)</div><div class='xr-var-dtype'>float64</div><div class='xr-var-preview xr-preview'>nan nan nan nan ... nan nan nan nan</div><input id='attrs-60615ff0-ce7d-4723-86e8-c80bf5ffb5cb' class='xr-var-attrs-in' type='checkbox' ><label for='attrs-60615ff0-ce7d-4723-86e8-c80bf5ffb5cb' title='Show/Hide attributes'><svg class='icon xr-icon-file-text2'><use xlink:href='#icon-file-text2'></use></svg></label><input id='data-b6b24b90-0a7b-48e7-ba43-50ba4d2eb2f9' class='xr-var-data-in' type='checkbox'><label for='data-b6b24b90-0a7b-48e7-ba43-50ba4d2eb2f9' title='Show/Hide data repr'><svg class='icon xr-icon-database'><use xlink:href='#icon-database'></use></svg></label><div class='xr-var-attrs'><dl class='xr-attrs'><dt><span>full_name :</span></dt><dd>Recall</dd><dt><span>unit_name :</span></dt><dd></dd></dl></div><div class='xr-var-data'><pre>array([[[nan, nan, nan, ..., nan, nan, nan],\n",
       "        [nan, nan, nan, ..., nan, nan, nan],\n",
       "        [nan, nan, nan, ..., nan, nan, nan],\n",
       "        [nan, nan, nan, ..., nan, nan, nan],\n",
       "        [nan, nan, nan, ..., nan, nan, nan]],\n",
       "\n",
       "       [[nan, nan, nan, ..., nan, nan, nan],\n",
       "        [nan, nan, nan, ..., nan, nan, nan],\n",
       "        [nan, nan, nan, ..., nan, nan, nan],\n",
       "        [nan, nan, nan, ..., nan, nan, nan],\n",
       "        [nan, nan, nan, ..., nan, nan, nan]],\n",
       "\n",
       "       [[nan, nan, nan, ..., nan, nan, nan],\n",
       "        [nan, nan, nan, ..., nan, nan, nan],\n",
       "        [nan, nan, nan, ..., nan, nan, nan],\n",
       "        [nan, nan, nan, ..., nan, nan, nan],\n",
       "        [nan, nan, nan, ..., nan, nan, nan]],\n",
       "\n",
       "       [[nan, nan, nan, ..., nan, nan, nan],\n",
       "        [nan, nan, nan, ..., nan, nan, nan],\n",
       "        [nan, nan, nan, ..., nan, nan, nan],\n",
       "        [nan, nan, nan, ..., nan, nan, nan],\n",
       "        [nan, nan, nan, ..., nan, nan, nan]],\n",
       "\n",
       "       [[nan, nan, nan, ..., nan, nan, nan],\n",
       "        [nan, nan, nan, ..., nan, nan, nan],\n",
       "        [nan, nan, nan, ..., nan, nan, nan],\n",
       "        [nan, nan, nan, ..., nan, nan, nan],\n",
       "        [nan, nan, nan, ..., nan, nan, nan]],\n",
       "\n",
       "       [[nan, nan, nan, ..., nan, nan, nan],\n",
       "        [nan, nan, nan, ..., nan, nan, nan],\n",
       "        [nan, nan, nan, ..., nan, nan, nan],\n",
       "        [nan, nan, nan, ..., nan, nan, nan],\n",
       "        [nan, nan, nan, ..., nan, nan, nan]]])</pre></div></li><li class='xr-var-item'><div class='xr-var-name'><span>area_under_curve_heavy</span></div><div class='xr-var-dims'>(size, repeats)</div><div class='xr-var-dtype'>float64</div><div class='xr-var-preview xr-preview'>0.0 0.0 0.0 0.0 ... 0.0 0.0 0.0 0.0</div><input id='attrs-96f840aa-8651-4c1b-937a-d0b255ed267a' class='xr-var-attrs-in' type='checkbox' ><label for='attrs-96f840aa-8651-4c1b-937a-d0b255ed267a' title='Show/Hide attributes'><svg class='icon xr-icon-file-text2'><use xlink:href='#icon-file-text2'></use></svg></label><input id='data-2b9a0257-5b68-4e76-9f03-f08826d424a1' class='xr-var-data-in' type='checkbox'><label for='data-2b9a0257-5b68-4e76-9f03-f08826d424a1' title='Show/Hide data repr'><svg class='icon xr-icon-database'><use xlink:href='#icon-database'></use></svg></label><div class='xr-var-attrs'><dl class='xr-attrs'><dt><span>full_name :</span></dt><dd>AUC</dd><dt><span>unit :</span></dt><dd></dd></dl></div><div class='xr-var-data'><pre>array([[0., 0., 0., 0., 0.],\n",
       "       [0., 0., 0., 0., 0.],\n",
       "       [0., 0., 0., 0., 0.],\n",
       "       [0., 0., 0., 0., 0.],\n",
       "       [0., 0., 0., 0., 0.],\n",
       "       [0., 0., 0., 0., 0.]])</pre></div></li></ul></div></li><li class='xr-section-item'><input id='section-707261e1-5ed6-4656-a336-8715efd602b9' class='xr-section-summary-in' type='checkbox'  ><label for='section-707261e1-5ed6-4656-a336-8715efd602b9' class='xr-section-summary' >Indexes: <span>(4)</span></label><div class='xr-section-inline-details'></div><div class='xr-section-details'><ul class='xr-var-list'><li class='xr-var-item'><div class='xr-index-name'><div>scales</div></div><div class='xr-index-preview'>PandasIndex</div><div></div><input id='index-68a9c3a9-40c9-4ee3-8c24-09ba6fbf361e' class='xr-index-data-in' type='checkbox'/><label for='index-68a9c3a9-40c9-4ee3-8c24-09ba6fbf361e' title='Show/Hide index repr'><svg class='icon xr-icon-database'><use xlink:href='#icon-database'></use></svg></label><div class='xr-index-data'><pre>PandasIndex(Index([                 inf,   0.5579999999999999,  0.27899999999999997,\n",
       "        0.18599999999999997,  0.13949999999999999,  0.11159999999999999,\n",
       "        0.09299999999999999,  0.07971428571428571,  0.06974999999999999,\n",
       "        0.06199999999999999, 0.055799999999999995, 0.050727272727272725,\n",
       "        0.04649999999999999,  0.04292307692307692, 0.039857142857142855,\n",
       "                     0.0372],\n",
       "      dtype=&#x27;float64&#x27;, name=&#x27;scales&#x27;))</pre></div></li><li class='xr-var-item'><div class='xr-index-name'><div>threshold</div></div><div class='xr-index-preview'>PandasIndex</div><div></div><input id='index-cad26c3e-040d-4ba3-bdae-643cc628395c' class='xr-index-data-in' type='checkbox'/><label for='index-cad26c3e-040d-4ba3-bdae-643cc628395c' title='Show/Hide index repr'><svg class='icon xr-icon-database'><use xlink:href='#icon-database'></use></svg></label><div class='xr-index-data'><pre>PandasIndex(Index([                 0.0, 0.010101010101010102, 0.020202020202020204,\n",
       "       0.030303030303030304,  0.04040404040404041,  0.05050505050505051,\n",
       "        0.06060606060606061,  0.07070707070707072,  0.08080808080808081,\n",
       "        0.09090909090909091,  0.10101010101010102,  0.11111111111111112,\n",
       "        0.12121212121212122,  0.13131313131313133,  0.14141414141414144,\n",
       "        0.15151515151515152,  0.16161616161616163,  0.17171717171717174,\n",
       "        0.18181818181818182,  0.19191919191919193,  0.20202020202020204,\n",
       "        0.21212121212121213,  0.22222222222222224,  0.23232323232323235,\n",
       "        0.24242424242424243,  0.25252525252525254,  0.26262626262626265,\n",
       "        0.27272727272727276,   0.2828282828282829,  0.29292929292929293,\n",
       "        0.30303030303030304,  0.31313131313131315,  0.32323232323232326,\n",
       "        0.33333333333333337,   0.3434343434343435,   0.3535353535353536,\n",
       "        0.36363636363636365,  0.37373737373737376,  0.38383838383838387,\n",
       "          0.393939393939394,   0.4040404040404041,   0.4141414141414142,\n",
       "        0.42424242424242425,  0.43434343434343436,   0.4444444444444445,\n",
       "         0.4545454545454546,   0.4646464646464647,   0.4747474747474748,\n",
       "        0.48484848484848486,    0.494949494949495,   0.5050505050505051,\n",
       "         0.5151515151515152,   0.5252525252525253,   0.5353535353535354,\n",
       "         0.5454545454545455,   0.5555555555555556,   0.5656565656565657,\n",
       "         0.5757575757575758,   0.5858585858585859,    0.595959595959596,\n",
       "         0.6060606060606061,   0.6161616161616162,   0.6262626262626263,\n",
       "         0.6363636363636365,   0.6464646464646465,   0.6565656565656566,\n",
       "         0.6666666666666667,   0.6767676767676768,    0.686868686868687,\n",
       "          0.696969696969697,   0.7070707070707072,   0.7171717171717172,\n",
       "         0.7272727272727273,   0.7373737373737375,   0.7474747474747475,\n",
       "         0.7575757575757577,   0.7676767676767677,   0.7777777777777778,\n",
       "          0.787878787878788,    0.797979797979798,   0.8080808080808082,\n",
       "         0.8181818181818182,   0.8282828282828284,   0.8383838383838385,\n",
       "         0.8484848484848485,   0.8585858585858587,   0.8686868686868687,\n",
       "         0.8787878787878789,    0.888888888888889,   0.8989898989898991,\n",
       "         0.9090909090909092,   0.9191919191919192,   0.9292929292929294,\n",
       "         0.9393939393939394,   0.9494949494949496,   0.9595959595959597,\n",
       "         0.9696969696969697,   0.9797979797979799,     0.98989898989899,\n",
       "                        1.0],\n",
       "      dtype=&#x27;float64&#x27;, name=&#x27;threshold&#x27;))</pre></div></li><li class='xr-var-item'><div class='xr-index-name'><div>threshold_heavy</div></div><div class='xr-index-preview'>PandasIndex</div><div></div><input id='index-7f9a7b05-b315-45bd-a60a-82e5cc73d789' class='xr-index-data-in' type='checkbox'/><label for='index-7f9a7b05-b315-45bd-a60a-82e5cc73d789' title='Show/Hide index repr'><svg class='icon xr-icon-database'><use xlink:href='#icon-database'></use></svg></label><div class='xr-index-data'><pre>PandasIndex(Index([                 0.0, 0.010101010101010102, 0.020202020202020204,\n",
       "       0.030303030303030304,  0.04040404040404041,  0.05050505050505051,\n",
       "        0.06060606060606061,  0.07070707070707072,  0.08080808080808081,\n",
       "        0.09090909090909091,  0.10101010101010102,  0.11111111111111112,\n",
       "        0.12121212121212122,  0.13131313131313133,  0.14141414141414144,\n",
       "        0.15151515151515152,  0.16161616161616163,  0.17171717171717174,\n",
       "        0.18181818181818182,  0.19191919191919193,  0.20202020202020204,\n",
       "        0.21212121212121213,  0.22222222222222224,  0.23232323232323235,\n",
       "        0.24242424242424243,  0.25252525252525254,  0.26262626262626265,\n",
       "        0.27272727272727276,   0.2828282828282829,  0.29292929292929293,\n",
       "        0.30303030303030304,  0.31313131313131315,  0.32323232323232326,\n",
       "        0.33333333333333337,   0.3434343434343435,   0.3535353535353536,\n",
       "        0.36363636363636365,  0.37373737373737376,  0.38383838383838387,\n",
       "          0.393939393939394,   0.4040404040404041,   0.4141414141414142,\n",
       "        0.42424242424242425,  0.43434343434343436,   0.4444444444444445,\n",
       "         0.4545454545454546,   0.4646464646464647,   0.4747474747474748,\n",
       "        0.48484848484848486,    0.494949494949495,   0.5050505050505051,\n",
       "         0.5151515151515152,   0.5252525252525253,   0.5353535353535354,\n",
       "         0.5454545454545455,   0.5555555555555556,   0.5656565656565657,\n",
       "         0.5757575757575758,   0.5858585858585859,    0.595959595959596,\n",
       "         0.6060606060606061,   0.6161616161616162,   0.6262626262626263,\n",
       "         0.6363636363636365,   0.6464646464646465,   0.6565656565656566,\n",
       "         0.6666666666666667,   0.6767676767676768,    0.686868686868687,\n",
       "          0.696969696969697,   0.7070707070707072,   0.7171717171717172,\n",
       "         0.7272727272727273,   0.7373737373737375,   0.7474747474747475,\n",
       "         0.7575757575757577,   0.7676767676767677,   0.7777777777777778,\n",
       "          0.787878787878788,    0.797979797979798,   0.8080808080808082,\n",
       "         0.8181818181818182,   0.8282828282828284,   0.8383838383838385,\n",
       "         0.8484848484848485,   0.8585858585858587,   0.8686868686868687,\n",
       "         0.8787878787878789,    0.888888888888889,   0.8989898989898991,\n",
       "         0.9090909090909092,   0.9191919191919192,   0.9292929292929294,\n",
       "         0.9393939393939394,   0.9494949494949496,   0.9595959595959597,\n",
       "         0.9696969696969697,   0.9797979797979799,     0.98989898989899,\n",
       "                        1.0],\n",
       "      dtype=&#x27;float64&#x27;, name=&#x27;threshold_heavy&#x27;))</pre></div></li><li class='xr-var-item'><div class='xr-index-name'><div>size</div></div><div class='xr-index-preview'>PandasIndex</div><div></div><input id='index-2f830b1f-53eb-4b26-897e-372becea1623' class='xr-index-data-in' type='checkbox'/><label for='index-2f830b1f-53eb-4b26-897e-372becea1623' title='Show/Hide index repr'><svg class='icon xr-icon-database'><use xlink:href='#icon-database'></use></svg></label><div class='xr-index-data'><pre>PandasIndex(Index([ 9369933.200000001, 28109799.599999998,         46849666.0,\n",
       "               65589532.4,         84329398.8,  92762338.67999999],\n",
       "      dtype=&#x27;float64&#x27;, name=&#x27;size&#x27;))</pre></div></li></ul></div></li><li class='xr-section-item'><input id='section-a4d4fa7e-f520-4843-b348-9e100cf06241' class='xr-section-summary-in' type='checkbox' disabled ><label for='section-a4d4fa7e-f520-4843-b348-9e100cf06241' class='xr-section-summary'  title='Expand/collapse section'>Attributes: <span>(0)</span></label><div class='xr-section-inline-details'></div><div class='xr-section-details'><dl class='xr-attrs'></dl></div></li></ul></div></div>"
      ],
      "text/plain": [
       "<xarray.Dataset> Size: 105kB\n",
       "Dimensions:                 (size: 6, repeats: 5, scales: 16, threshold: 100,\n",
       "                             threshold_heavy: 100)\n",
       "Coordinates:\n",
       "  * scales                  (scales) float64 128B inf 0.558 ... 0.03986 0.0372\n",
       "  * threshold               (threshold) float64 800B 0.0 0.0101 ... 0.9899 1.0\n",
       "  * threshold_heavy         (threshold_heavy) float64 800B 0.0 0.0101 ... 1.0\n",
       "  * size                    (size) float64 48B 9.37e+06 2.811e+07 ... 9.276e+07\n",
       "Dimensions without coordinates: repeats\n",
       "Data variables: (12/19)\n",
       "    bias                    (size, repeats) float64 240B -3.322 ... -4.629\n",
       "    mae                     (size, repeats) float64 240B 0.1292 ... 0.1228\n",
       "    mse                     (size, repeats) float64 240B 1.575 1.552 ... 1.518\n",
       "    smape                   (size, repeats) float64 240B 97.38 97.33 ... 91.84\n",
       "    correlation_coef        (size, repeats) float64 240B 0.5983 ... 0.6156\n",
       "    spectral_coherence      (size, repeats, scales) float64 4kB 0.9301 ... 0....\n",
       "    ...                      ...\n",
       "    pod_heavy               (size, repeats) float64 240B nan nan nan ... nan nan\n",
       "    far_heavy               (size, repeats) float64 240B nan nan nan ... nan nan\n",
       "    hss_heavy               (size, repeats) float64 240B nan nan nan ... nan nan\n",
       "    precision_heavy         (size, repeats, threshold_heavy) float64 24kB nan...\n",
       "    recall_heavy            (size, repeats, threshold_heavy) float64 24kB nan...\n",
       "    area_under_curve_heavy  (size, repeats) float64 240B 0.0 0.0 0.0 ... 0.0 0.0"
      ]
     },
     "execution_count": 17,
     "metadata": {},
     "output_type": "execute_result"
    }
   ],
   "source": [
    "results_xgboost"
   ]
  },
  {
   "cell_type": "code",
   "execution_count": 7,
   "id": "7b7183f5-d318-4496-8536-56e9cc563756",
   "metadata": {
    "editable": true,
    "slideshow": {
     "slide_type": ""
    },
    "tags": []
   },
   "outputs": [
    {
     "data": {
      "text/plain": [
       "[<matplotlib.lines.Line2D at 0x7f6902eeee90>]"
      ]
     },
     "execution_count": 7,
     "metadata": {},
     "output_type": "execute_result"
    },
    {
     "data": {
      "image/png": "[encoded data removed]",
      "text/plain": [
       "<Figure size 640x480 with 1 Axes>"
      ]
     },
     "metadata": {},
     "output_type": "display_data"
    }
   ],
   "source": [
    "import matplotlib.pyplot as plt\n",
    "import numpy as np\n",
    "sizes = [0.1, 0.3, 0.5, 0.7, 0.9, 0.99]\n",
    "results_xgboost[\"size\"] = ((\"size\",), np.array(sizes) * target_data.samples.size)\n",
    "results_nn[\"size\"] = ((\"size\",), np.array(sizes) * target_data.samples.size)\n"
   ]
  },
  {
   "cell_type": "code",
   "execution_count": 43,
   "id": "b56e3771-6580-48e3-aa35-4bd1208e5018",
   "metadata": {
    "editable": true,
    "slideshow": {
     "slide_type": ""
    },
    "tags": []
   },
   "outputs": [
    {
     "data": {
      "image/png": "[encoded data removed]",
      "text/plain": [
       "<Figure size 2000x500 with 4 Axes>"
      ]
     },
     "metadata": {},
     "output_type": "display_data"
    }
   ],
   "source": [
    "fig, axs = plt.subplots(1, 4, figsize=(20, 5))\n",
    "\n",
    "ax = axs[0]\n",
    "ax.set_title(\"Bias\")\n",
    "ax.fill_between(results_xgboost.size, y1=results_xgboost.bias.min(\"repeats\"), y2=results_xgboost.bias.max(\"repeats\"), alpha=0.2)\n",
    "ax.plot(results_xgboost.size, results_xgboost.bias.mean(\"repeats\"), c=\"C0\", label=\"XGBoost\")\n",
    "ax.plot(results_nn.size, results_nn.bias.mean(\"repeats\"), c=\"C1\", label=\"Fully-connected NN\")\n",
    "ax.legend()\n",
    "ax.set_xlabel(\"No. of training samples\")\n",
    "ax.set_ylim(-10, 10)\n",
    "ax.set_ylabel(\"Bias [%]\")\n",
    "\n",
    "ax = axs[1]\n",
    "ax.set_title(\"MSE\")\n",
    "ax.fill_between(results_xgboost.size, y1=results_xgboost.mse.min(\"repeats\"), y2=results_xgboost.mse.max(\"repeats\"), alpha=0.2)\n",
    "ax.plot(results_xgboost.size, results_xgboost.mse.mean(\"repeats\"), c=\"C0\")\n",
    "ax.plot(results_nn.size, results_nn.mse.mean(\"repeats\"), c=\"C1\")\n",
    "ax.set_xlabel(\"No. of training samples\")\n",
    "ax.set_ylabel(\"MSE [(mm/h)$^2$]\")\n",
    "ax.set_ylim(0, 1.6)\n",
    "\n",
    "ax = axs[2]\n",
    "ax.set_title(\"MAE\")\n",
    "ax.fill_between(results_xgboost.size, y1=results_xgboost.mae.min(\"repeats\"), y2=results_xgboost.mae.max(\"repeats\"), alpha=0.2)\n",
    "ax.plot(results_xgboost.size, results_xgboost.mae.mean(\"repeats\"), c=\"C0\")\n",
    "ax.plot(results_nn.size, results_nn.mae.mean(\"repeats\"), c=\"C1\")\n",
    "ax.set_xlabel(\"No. of training samples\")\n",
    "ax.set_ylabel(\"MAE [mm/h]\")\n",
    "ax.set_ylim(0, 0.14)\n",
    "\n",
    "ax = axs[3]\n",
    "ax.set_title(\"Correlation coef.\")\n",
    "ax.fill_between(results_xgboost.size, y1=results_xgboost.correlation_coef.min(\"repeats\"), y2=results_xgboost.correlation_coef.max(\"repeats\"), alpha=0.2)\n",
    "ax.plot(results_xgboost.size, results_xgboost.correlation_coef.mean(\"repeats\"), c=\"C0\")\n",
    "ax.plot(results_nn.size, results_nn.correlation_coef.mean(\"repeats\"), c=\"C1\")\n",
    "ax.set_xlabel(\"No. of training samples\")\n",
    "ax.set_ylabel(\"Correlation coef.\")\n",
    "ax.set_ylim(0, 0.7)\n",
    "\n",
    "fig.savefig(\"../../figures/mlp_retrieval_metrics.png\", dpi=200)\n"
   ]
  },
  {
   "cell_type": "code",
   "execution_count": 20,
   "id": "3695cc56-d65c-4494-8f8b-34bb24e384c9",
   "metadata": {
    "editable": true,
    "slideshow": {
     "slide_type": ""
    },
    "tags": []
   },
   "outputs": [
    {
     "ename": "AttributeError",
     "evalue": "'list' object has no attribute 'correlation_coef'",
     "output_type": "error",
     "traceback": [
      "\u001b[0;31m---------------------------------------------------------------------------\u001b[0m",
      "\u001b[0;31mAttributeError\u001b[0m                            Traceback (most recent call last)",
      "Cell \u001b[0;32mIn[20], line 2\u001b[0m\n\u001b[1;32m      1\u001b[0m \u001b[38;5;28;01mimport\u001b[39;00m \u001b[38;5;21;01mmatplotlib\u001b[39;00m\u001b[38;5;21;01m.\u001b[39;00m\u001b[38;5;21;01mpyplot\u001b[39;00m \u001b[38;5;28;01mas\u001b[39;00m \u001b[38;5;21;01mplt\u001b[39;00m\n\u001b[0;32m----> 2\u001b[0m plt\u001b[38;5;241m.\u001b[39mplot(\u001b[43mresults\u001b[49m\u001b[38;5;241;43m.\u001b[39;49m\u001b[43mcorrelation_coef\u001b[49m)\n",
      "\u001b[0;31mAttributeError\u001b[0m: 'list' object has no attribute 'correlation_coef'"
     ]
    }
   ],
   "source": [
    "import matplotlib.pyplot as plt\n",
    "plt.plot(results.correlation_coef)"
   ]
  },
  {
   "cell_type": "code",
   "execution_count": 10,
   "id": "276a5279-aa59-4d0b-935e-b46dcd9a7be7",
   "metadata": {},
   "outputs": [
    {
     "data": {
      "text/plain": [
       "[<matplotlib.lines.Line2D at 0x7f9481d8e550>,\n",
       " <matplotlib.lines.Line2D at 0x7f9481db07d0>,\n",
       " <matplotlib.lines.Line2D at 0x7f9481d9ba50>,\n",
       " <matplotlib.lines.Line2D at 0x7f9481db3d50>,\n",
       " <matplotlib.lines.Line2D at 0x7f9481dc4150>]"
      ]
     },
     "execution_count": 10,
     "metadata": {},
     "output_type": "execute_result"
    },
    {
     "data": {
      "image/png": "[encoded data removed]",
      "text/plain": [
       "<Figure size 640x480 with 1 Axes>"
      ]
     },
     "metadata": {},
     "output_type": "display_data"
    }
   ],
   "source": [
    "import matplotlib.pyplot as plt\n",
    "plt.plot(results.mae)"
   ]
  },
  {
   "cell_type": "code",
   "execution_count": 11,
   "id": "4659c5c5-73b5-4ae4-a375-4d47044c3fc2",
   "metadata": {},
   "outputs": [
    {
     "data": {
      "text/plain": [
       "[<matplotlib.lines.Line2D at 0x7f9481c6d4d0>,\n",
       " <matplotlib.lines.Line2D at 0x7f9481d8fd90>,\n",
       " <matplotlib.lines.Line2D at 0x7f9481c842d0>,\n",
       " <matplotlib.lines.Line2D at 0x7f9481c84650>,\n",
       " <matplotlib.lines.Line2D at 0x7f9481c84990>]"
      ]
     },
     "execution_count": 11,
     "metadata": {},
     "output_type": "execute_result"
    },
    {
     "data": {
      "image/png": "[encoded data removed]",
      "text/plain": [
       "<Figure size 640x480 with 1 Axes>"
      ]
     },
     "metadata": {},
     "output_type": "display_data"
    }
   ],
   "source": [
    "import matplotlib.pyplot as plt\n",
    "plt.plot(results.mse)"
   ]
  },
  {
   "cell_type": "code",
   "execution_count": 13,
   "id": "85592bba-5a65-46b8-b36a-f4077820f69d",
   "metadata": {},
   "outputs": [
    {
     "data": {
      "text/plain": [
       "[<matplotlib.lines.Line2D at 0x7f92c0dbe690>,\n",
       " <matplotlib.lines.Line2D at 0x7f92c0de6090>,\n",
       " <matplotlib.lines.Line2D at 0x7f90f861e050>,\n",
       " <matplotlib.lines.Line2D at 0x7f90dbb84690>,\n",
       " <matplotlib.lines.Line2D at 0x7f90dbb84450>]"
      ]
     },
     "execution_count": 13,
     "metadata": {},
     "output_type": "execute_result"
    },
    {
     "data": {
      "image/png": "[encoded data removed]",
      "text/plain": [
       "<Figure size 640x480 with 1 Axes>"
      ]
     },
     "metadata": {},
     "output_type": "display_data"
    }
   ],
   "source": [
    "import matplotlib.pyplot as plt\n",
    "plt.plot(results.effective_resolution)"
   ]
  },
  {
   "cell_type": "code",
   "execution_count": null,
   "id": "a7362f43-be71-4935-a3b1-c98fd424c86f",
   "metadata": {
    "editable": true,
    "slideshow": {
     "slide_type": ""
    },
    "tags": []
   },
   "outputs": [],
   "source": []
  }
 ],
 "metadata": {
  "kernelspec": {
   "display_name": "Python 3 (ipykernel)",
   "language": "python",
   "name": "python3"
  },
  "language_info": {
   "codemirror_mode": {
    "name": "ipython",
    "version": 3
   },
   "file_extension": ".py",
   "mimetype": "text/x-python",
   "name": "python",
   "nbconvert_exporter": "python",
   "pygments_lexer": "ipython3",
   "version": "3.11.10"
  }
 },
 "nbformat": 4,
 "nbformat_minor": 5
}
